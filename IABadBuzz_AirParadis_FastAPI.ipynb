{
 "cells": [
  {
   "cell_type": "code",
   "execution_count": null,
   "id": "74db8e3e",
   "metadata": {},
   "outputs": [],
   "source": [
    "# #Save in root folder IABadBuzz_AirParadis_FastAPI.py\n",
    "# #Launch in cmd line: uvicorn IABadBuzz_AirParadis_FastAPI:app --reload\n",
    "# #Access swagger in http://127.0.0.1:8000/docs#/ through webbrowser"
   ]
  },
  {
   "cell_type": "code",
   "execution_count": 3,
   "id": "5e73817f",
   "metadata": {},
   "outputs": [],
   "source": [
    "import preprocessor as p\n",
    "import numpy as np\n",
    "import pandas as pd\n",
    "#Access swagger in  http://localhost:8000/predict text=\"This app is a total waste of time, but provides sentiment analysis!\"\n",
    "from typing import Dict\n",
    "\n",
    "from fastapi import Depends, FastAPI\n",
    "from pydantic import BaseModel\n",
    "\n",
    "#from .classifier.model import Model, get_model\n",
    "from transformers import pipeline, BertForSequenceClassification\n",
    "import datasets\n",
    "\n",
    "from joblib import dump, load\n",
    "\n",
    "tokenizer=load('./Models/bert_tokenizer.joblib')\n",
    "#model_bert1=load('./Models/model_bert1.joblib')\n",
    "trainer = BertForSequenceClassification.from_pretrained('./Models/Bert_Trainer5')\n",
    "\n",
    "app = FastAPI()\n",
    "pipe = pipeline(\"sentiment-analysis\")\n",
    "\n",
    "# preprocessing function to tokenize text and truncate sequences to be no longer than DistilBERT’s maximum input length\n",
    "def preprocess_function(dataset):\n",
    "    return tokenizer(dataset[\"text\"], truncation=True, padding=True) #'max_length', return_tensors=\"tf\"\n",
    "\n",
    "#  DataCollatorWithPadding to create a batch of examples\n",
    "#data_collator = DataCollatorWithPadding(tokenizer=tokenizer)\n",
    "\n",
    "\n",
    "\n",
    "@app.get('/')\n",
    "def get_root():\n",
    "    return {'message': 'This is the sentiment analysis app, based on HuggingFace pipeline'}\n",
    "\n",
    "\n",
    "@app.get('/sentiment_analysis/')\n",
    "async def query_sentiment_analysis(text: str):\n",
    "    text_series = pd.Series(text)\n",
    "    text_df = pd.DataFrame(text_series,  columns = ['text'])\n",
    "    text_dict = datasets.Dataset.from_pandas(test_text_df)\n",
    "    tokenized_sentiment = text_dict.map(preprocess_function, batched=True)\n",
    "# test_text_dict = datasets.Dataset.from_pandas(test_text_df)\n",
    "# tokenized_test_text_dict = test_text_dict.map(preprocess_function, batched=True)\n",
    "# test_text_encoding = tokenizer(test_text)\n",
    "# print(test_text_encoding)\n",
    "    return analyze_sentiment(tokenized_sentiment)\n",
    "\n",
    "\n",
    "def analyze_sentiment(tokenized_sentiment):\n",
    "    \"\"\"Get and process result\"\"\"\n",
    "    result=[]\n",
    "    #result = pipe(text)\n",
    "    y_prob = trainer.predict(tokenized_sentiment)\n",
    "    y_pred = np.argmax(y_prob.predictions, axis=-1)\n",
    "    for pred in y_pred:\n",
    "        if pred == 0:\n",
    "            result.append('NEGATIVE') \n",
    "        elif pred == 1:\n",
    "            result.append('POSITIVE')\n",
    "\n",
    "    # Format and return results\n",
    "    return {'result': result}"
   ]
  },
  {
   "cell_type": "code",
   "execution_count": null,
   "id": "e7407281",
   "metadata": {},
   "outputs": [],
   "source": []
  }
 ],
 "metadata": {
  "kernelspec": {
   "display_name": "Python 3 (ipykernel)",
   "language": "python",
   "name": "python3"
  },
  "language_info": {
   "codemirror_mode": {
    "name": "ipython",
    "version": 3
   },
   "file_extension": ".py",
   "mimetype": "text/x-python",
   "name": "python",
   "nbconvert_exporter": "python",
   "pygments_lexer": "ipython3",
   "version": "3.8.13"
  }
 },
 "nbformat": 4,
 "nbformat_minor": 5
}
