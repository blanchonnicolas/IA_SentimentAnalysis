{
 "cells": [
  {
   "cell_type": "markdown",
   "id": "c2838a86",
   "metadata": {},
   "source": [
    "# Détectez les Bad Buzz grâce au Modèle BERT\n",
    "BERT c'est pour Bidirectional Encoder Representations from Transformers\n",
    "\n",
    "[Blog BERT](https://lesdieuxducode.com/blog/2019/4/bert--le-transformer-model-qui-sentraine-et-qui-represente)\n",
    "\n",
    "[BERT Text Classification](https://swatimeena989.medium.com/bert-text-classification-using-keras-903671e0207d)\n",
    "\n",
    "[GitHub BERT](https://github.com/google-research/bert)\n",
    "\n"
   ]
  },
  {
   "cell_type": "markdown",
   "id": "0a4adcd7",
   "metadata": {},
   "source": [
    "\n",
    "### Déscriptif projet\n",
    "\n",
    "<a href=\"https://openclassrooms.com/fr/paths/188-ingenieur-ia\" target=\"_blank\" style=\"text-decoration: none; text-align:center;\">\n",
    "    \n",
    "<img src=\"./Air_Paradis_Logo.png\" style=\"display:inline-block;max-height: 5rem; max-width: 100%;\">\n",
    "</a>\n",
    "\n",
    "\n",
    "La société \"Air Paradis\" souhaite pouvoir détecter les bad buzz via le réseau Twitter. \n",
    "Elle souhaite pouvoir détecter les sentiments à partir de jeux de données textuels (Prototype à créer)\n",
    "\n",
    "\n",
    "Jeu de données: Kaggle : <a href=\"https://www.kaggle.com/kazanova/sentiment140\" target=\"_blank\"> \"Sentiment140 dataset with 1.6 miilion tweets\"</a> \n",
    " - 1.600.000 tweets labellisés avec un sentiment (négatif ou positif). \n",
    " - Génerer plusieurs solutions: Azure, Custom, ...\n",
    "\n",
    "6 Champs du fichiers: \n",
    "\n",
    "    **target**: the polarity of the tweet (0 = negative, 2 = neutral, 4 = positive)\n",
    "    **id**: The id of the tweet ( 2087)\n",
    "    **date**: the date of the tweet (Sat May 16 23:58:44 UTC 2009)\n",
    "    **flag*: The query (lyx). If there is no query, then this value is NO_QUERY.\n",
    "    **user**: the user that tweeted (robotickilldozr)\n",
    "    **text**: the text of the tweet (Lyx is cool)\n",
    "\n",
    "Dans ce notebook, nous allons utiliser Keras pour créer et entraîner un réseau neuronal qui analyse les sentiments exprimés.\n",
    "\n",
    "__Données:__\n",
    "\n",
    "Nous allons utiliser le même jeu de données que sur le notebook précedent (Modèles Simple et Avancé).\n",
    "\n",
    "__Traitement des données:__\n",
    "\n",
    "Nous adapterons le pre-processing des données afin qu'il rende notre modèle BERT le plus performant possible.\n",
    "Nous évaluerons ainsi plusieurs méthode des pré-traitement.\n",
    "\n",
    "__Modèles de Réseaux de Neurones:__\n",
    "\n",
    "Nous réaliserons plusieurs technique de plongements de mots, et choisierons le modèle le plus performant.\n",
    "Nous adapterons les hyperparamètres des modèles d'apprentissage, afin de visualiser les variations des scores.\n",
    "Nous travaillerons sur le seuil de décisions afin de visualiser les variations des résultats.\n",
    "\n",
    "\n",
    "Les évaluations des modèles seront faites sur des [metrics](https://scikit-learn.org/stable/modules/classes.html?highlight=metrics#module-sklearn.metrics) provenant de la librairies SickitLearn, tels que:\n",
    " - [F1 score](https://en.wikipedia.org/wiki/F1_score) : $\\frac{2TP}{2TP + FP + FN} = \\frac{2 * precision * recall}{precision + recall}$\n",
    " - Recall : $\\frac{TP}{TP + FN}$\n",
    " - Precision : $\\frac{TP}{TP + FP}$\n",
    " - Accuracy : $\\frac{TP + TN}{Total}$\n",
    " - [ROC_AUC](https://stats.stackexchange.com/questions/132777/what-does-auc-stand-for-and-what-is-it)\n",
    " \n",
    "Au regard de la matrice de confusion, l'objectif sera de maximiser l'accuracy (=precision). \n",
    " \n"
   ]
  },
  {
   "cell_type": "code",
   "execution_count": 1,
   "id": "6c344749",
   "metadata": {},
   "outputs": [
    {
     "name": "stderr",
     "output_type": "stream",
     "text": [
      "C:\\Users\\blanc\\anaconda3\\envs\\IA_Project7_Sentiment\\lib\\site-packages\\tqdm\\auto.py:22: TqdmWarning: IProgress not found. Please update jupyter and ipywidgets. See https://ipywidgets.readthedocs.io/en/stable/user_install.html\n",
      "  from .autonotebook import tqdm as notebook_tqdm\n"
     ]
    }
   ],
   "source": [
    "#Import functions createdon my side\n",
    "from Functions_custo_by_Nico import * \n",
    "\n",
    "# Import custom helper libraries\n",
    "import os\n",
    "import sys\n",
    "\n",
    "from joblib import dump, load\n",
    "\n",
    "import preprocessor as p\n",
    "\n",
    "import tensorflow as tf\n",
    "from tensorflow import keras\n",
    "from tensorflow.keras import layers\n",
    "\n",
    "\n",
    "\n",
    "import datasets\n",
    "from datasets import load_dataset, Dataset, load_metric\n",
    "\n",
    "import transformers\n",
    "#from transformers import \n",
    "from transformers import BertTokenizer, AutoTokenizer, DistilBertTokenizerFast, TFBertModel, BertConfig, DataCollatorWithPadding, AutoModelForSequenceClassification, TrainingArguments, Trainer, TFTrainer, TFTrainingArguments, TFDistilBertForSequenceClassification, TFAutoModelForSequenceClassification, BertForSequenceClassification, RobertaForSequenceClassification, CamembertForSequenceClassification, BertModel, AdamW, get_linear_schedule_with_warmup, create_optimizer, pipeline\n",
    "\n",
    "import torch"
   ]
  },
  {
   "cell_type": "code",
   "execution_count": 2,
   "id": "bca4fee3",
   "metadata": {},
   "outputs": [
    {
     "name": "stdout",
     "output_type": "stream",
     "text": [
      "Functions have been properly imported !\n"
     ]
    }
   ],
   "source": [
    "# calling functions\n",
    "Test_Imported_Functions()"
   ]
  },
  {
   "cell_type": "markdown",
   "id": "ea785d70",
   "metadata": {},
   "source": [
    "### Lecture du fichier"
   ]
  },
  {
   "cell_type": "code",
   "execution_count": 3,
   "id": "0499067d",
   "metadata": {},
   "outputs": [],
   "source": [
    "src_path = os.path.abspath(os.path.join(\"../IA_Project7_Openclassrooms_BadBuzz_DeepLearning\"))\n",
    "if src_path not in sys.path:\n",
    "    sys.path.append(src_path)\n",
    "\n",
    "DATA_URL = os.path.join(src_path, \"Dataset\", \"sentiment140\", \"training.1600000.processed.noemoticon.csv\")\n",
    "DATASET_COLUMNS = [\"target\", \"id\", \"date\", \"flag\", \"user\", \"text\"]\n",
    "DATASET_ENCODING = \"ISO-8859-1\"\n",
    "# Using Function load_data = pd.read_csv(DATA_URL, nrows=nrows, names=columns)\n",
    "df = load_formatted_data(DATA_URL, DATASET_ENCODING, DATASET_COLUMNS) #load_data(DATA_URL, nrows, columns)\n",
    "\n",
    "### REDUCTION DU JEU DE DONNEE POUR LES PHASES DE TESTS\n",
    "#clean_df = clean_data(df.groupby('target').apply(lambda x: x.sample(frac=0.08))) #clean_data(df)\n",
    "clean_df = df.sample(frac=0.002, random_state=0)\n",
    "clean_df = clean_df.drop(['date', 'flag', 'user'], axis=1)\n",
    "clean_df.set_index('id',inplace = True)\n",
    "\n",
    "#clean_df.index.name = 'ids'\n",
    "\n",
    "#Replace Target value related to positive statement = 1 (Binary reason)\n",
    "clean_df.loc[clean_df['target'] == 4, 'target'] = 1\n",
    "\n",
    "#Technique 2 : Text preprocess using https://pypi.org/project/tweet-preprocessor/\n",
    "clean_df.text = clean_df.text.apply(lambda x: p.clean(x))\n"
   ]
  },
  {
   "cell_type": "code",
   "execution_count": 4,
   "id": "f91e9fc9",
   "metadata": {},
   "outputs": [
    {
     "data": {
      "text/html": [
       "<div>\n",
       "<style scoped>\n",
       "    .dataframe tbody tr th:only-of-type {\n",
       "        vertical-align: middle;\n",
       "    }\n",
       "\n",
       "    .dataframe tbody tr th {\n",
       "        vertical-align: top;\n",
       "    }\n",
       "\n",
       "    .dataframe thead th {\n",
       "        text-align: right;\n",
       "    }\n",
       "</style>\n",
       "<table border=\"1\" class=\"dataframe\">\n",
       "  <thead>\n",
       "    <tr style=\"text-align: right;\">\n",
       "      <th></th>\n",
       "      <th>target</th>\n",
       "      <th>text</th>\n",
       "    </tr>\n",
       "    <tr>\n",
       "      <th>id</th>\n",
       "      <th></th>\n",
       "      <th></th>\n",
       "    </tr>\n",
       "  </thead>\n",
       "  <tbody>\n",
       "    <tr>\n",
       "      <th>2204444171</th>\n",
       "      <td>0</td>\n",
       "      <td>wants to compete! i want hard competition! i w...</td>\n",
       "    </tr>\n",
       "  </tbody>\n",
       "</table>\n",
       "</div>"
      ],
      "text/plain": [
       "            target                                               text\n",
       "id                                                                   \n",
       "2204444171       0  wants to compete! i want hard competition! i w..."
      ]
     },
     "execution_count": 4,
     "metadata": {},
     "output_type": "execute_result"
    }
   ],
   "source": [
    "clean_df[:1]"
   ]
  },
  {
   "cell_type": "code",
   "execution_count": 5,
   "id": "0376faa4",
   "metadata": {},
   "outputs": [],
   "source": [
    "# Datasets can read a dataset made up of one or several CSV files:\n",
    "#dataset = load_dataset('csv', data_files=DATA_URL)\n",
    "\n",
    "# Load Pandas DataFrames with Dataset.from_pandas() to match with HuggingFace librairies\n",
    "dataset = Dataset.from_pandas(clean_df)\n",
    "#dataset = Dataset.from_pandas(clean_df, split='train[:10%]')"
   ]
  },
  {
   "cell_type": "code",
   "execution_count": 6,
   "id": "58faac9b",
   "metadata": {},
   "outputs": [],
   "source": [
    "# Rename column\n",
    "dataset = dataset.rename_column(\"target\", \"labels\")\n",
    "\n",
    "# Remove column\n",
    "dataset = dataset.remove_columns(\"id\")"
   ]
  },
  {
   "cell_type": "code",
   "execution_count": 7,
   "id": "dba71b65",
   "metadata": {},
   "outputs": [],
   "source": [
    "# Creates train and test splits\n",
    "# https://huggingface.co/docs/datasets/process#split\n",
    "dataset = dataset.train_test_split(test_size=0.2)"
   ]
  },
  {
   "cell_type": "code",
   "execution_count": 8,
   "id": "357dc100",
   "metadata": {},
   "outputs": [
    {
     "data": {
      "text/plain": [
       "{'labels': 1, 'text': 'everybody knows this Norman Wisdom thing, come on guys'}"
      ]
     },
     "execution_count": 8,
     "metadata": {},
     "output_type": "execute_result"
    }
   ],
   "source": [
    "dataset['train'][0]"
   ]
  },
  {
   "cell_type": "markdown",
   "id": "92aacdab",
   "metadata": {},
   "source": [
    "### Préparation des modèles et de la table de résultats"
   ]
  },
  {
   "cell_type": "code",
   "execution_count": 4,
   "id": "993f2fce",
   "metadata": {},
   "outputs": [],
   "source": [
    "#Initialisation de la table des résultats\n",
    "score_column_names = [\"Model Type\",\"Model Name\",\"seuil\",\"F1-Score\",\"FBeta-Score\", \"Recall_score\", \"Precision_score\", \"Accuracy_score\", \"Roc_AUC_score\"]\n",
    "store_score = pd.DataFrame(columns = score_column_names)"
   ]
  },
  {
   "cell_type": "markdown",
   "id": "c04b454d",
   "metadata": {},
   "source": [
    "## Text Classification using BERT HuggingFace transfromers\n",
    "\n",
    "[Documentation ici](https://huggingface.co/docs/transformers/tasks/sequence_classification#preprocess)\n",
    "\n",
    "Ici, nous allons utiliser le tokenizer \"transformers\" pour processer le texte. Nous incluons une strategie de padding et de tronquage pour mieux gérer kes différences de longueures de texte.\n",
    "\n"
   ]
  },
  {
   "cell_type": "markdown",
   "id": "d097f8ad",
   "metadata": {},
   "source": [
    "#### Preprocess\n",
    "\n",
    "Nous chargeons le [tokenizer DistilBERT](https://huggingface.co/docs/transformers/tasks/sequence_classification#preprocess) pour processer les champs texte.\n",
    "\n",
    "Le Tokenizer sera en charge de pré-traiter le texte dans un format compatible au modèle."
   ]
  },
  {
   "cell_type": "code",
   "execution_count": 5,
   "id": "adeaee15",
   "metadata": {},
   "outputs": [],
   "source": [
    "tokenizer = AutoTokenizer.from_pretrained(\"bert-base-uncased\", do_lower_case = True)\n",
    "\n",
    "# Load the DistilBERT tokenizer to process the text field:\n",
    "#tokenizer = DistilBertTokenizerFast.from_pretrained('distilbert-base-uncased')\n",
    "#bert_tokenizer = BertTokenizer.from_pretrained(\"bert-base-uncased\", do_lower_case = True)\n",
    "#auto_tokenizer = AutoTokenizer.from_pretrained(\"distilbert-base-uncased\")\n"
   ]
  },
  {
   "cell_type": "code",
   "execution_count": 6,
   "id": "b60cc0b4",
   "metadata": {},
   "outputs": [],
   "source": [
    "# preprocessing function to tokenize text and truncate sequences to be no longer than DistilBERT’s maximum input length\n",
    "def preprocess_function(dataset):\n",
    "    return tokenizer(dataset[\"text\"], truncation=True, padding=True) #'max_length', return_tensors=\"tf\"\n",
    "\n",
    "#Set the padding parameter to True to pad the shorter sequences in the batch to match the longest sequence:\n",
    "#Set the truncation parameter to True to truncate a sequence to the maximum length accepted by the model"
   ]
  },
  {
   "cell_type": "code",
   "execution_count": 12,
   "id": "808607a6",
   "metadata": {},
   "outputs": [
    {
     "name": "stderr",
     "output_type": "stream",
     "text": [
      "Parameter 'function'=<function preprocess_function at 0x000001F1B30920D0> of the transform datasets.arrow_dataset.Dataset._map_single couldn't be hashed properly, a random hash was used instead. Make sure your transforms and parameters are serializable with pickle or dill for the dataset fingerprinting and caching to work. If you reuse this transform, the caching mechanism will consider it to be different from the previous calls and recompute everything. This warning is only showed once. Subsequent hashing failures won't be showed.\n",
      "100%|██████████| 3/3 [00:00<00:00, 21.49ba/s]\n",
      "100%|██████████| 1/1 [00:00<00:00, 27.42ba/s]\n"
     ]
    }
   ],
   "source": [
    "tokenized_sentiment = dataset.map(preprocess_function, batched=True)"
   ]
  },
  {
   "cell_type": "code",
   "execution_count": 13,
   "id": "30198742",
   "metadata": {},
   "outputs": [
    {
     "data": {
      "text/plain": [
       "DatasetDict({\n",
       "    train: Dataset({\n",
       "        features: ['labels', 'text', 'input_ids', 'token_type_ids', 'attention_mask'],\n",
       "        num_rows: 2560\n",
       "    })\n",
       "    test: Dataset({\n",
       "        features: ['labels', 'text', 'input_ids', 'token_type_ids', 'attention_mask'],\n",
       "        num_rows: 640\n",
       "    })\n",
       "})"
      ]
     },
     "execution_count": 13,
     "metadata": {},
     "output_type": "execute_result"
    }
   ],
   "source": [
    "#Apply function on text, we just use the map method of our dataset objec, and return ['labels', 'text', 'input_ids', 'attention_mask']\n",
    "tokenized_sentiment"
   ]
  },
  {
   "cell_type": "code",
   "execution_count": 14,
   "id": "a1f142c9",
   "metadata": {},
   "outputs": [
    {
     "data": {
      "text/plain": [
       "DatasetDict({\n",
       "    train: Dataset({\n",
       "        features: ['labels', 'text'],\n",
       "        num_rows: 2560\n",
       "    })\n",
       "    test: Dataset({\n",
       "        features: ['labels', 'text'],\n",
       "        num_rows: 640\n",
       "    })\n",
       "})"
      ]
     },
     "execution_count": 14,
     "metadata": {},
     "output_type": "execute_result"
    }
   ],
   "source": [
    "dataset"
   ]
  },
  {
   "cell_type": "code",
   "execution_count": 15,
   "id": "ef3684da",
   "metadata": {},
   "outputs": [],
   "source": [
    "#tf_tokenized_sentiment = dataset.map(tf_preprocess_function, batched=True)"
   ]
  },
  {
   "cell_type": "code",
   "execution_count": 7,
   "id": "acf0c8a5",
   "metadata": {},
   "outputs": [],
   "source": [
    "#  DataCollatorWithPadding to create a batch of examples\n",
    "data_collator = DataCollatorWithPadding(tokenizer=tokenizer)\n",
    "#data_collator_tf = DataCollatorWithPadding(tokenizer=tokenizer, return_tensors=\"tf\")"
   ]
  },
  {
   "cell_type": "markdown",
   "id": "0f239151",
   "metadata": {},
   "source": [
    "#### Training hyperparameters (Phase décrite dans How-To-Guides)\n",
    "\n",
    "Nous crééons les Arguments du modèle d'entrainement, qui contiennts les hyperparamètres à ajuster, ainsi que les drapeaux pour activer les options.\n",
    "\n",
    "Ici, nous commenceons avec les [default training hyperparameters](https://huggingface.co/docs/transformers/training#training-hyperparameters).\n",
    "\n",
    "Nous spécifions également le dossier de stockage **des checkpoints = ./bert_results/**"
   ]
  },
  {
   "cell_type": "code",
   "execution_count": 8,
   "id": "538122cc",
   "metadata": {},
   "outputs": [],
   "source": [
    "# Define your training hyperparameters in TrainingArguments.\n",
    "training_args = TrainingArguments(\n",
    "    output_dir=\"./bert_results\",\n",
    "    learning_rate=2e-5,\n",
    "    per_device_train_batch_size=8,\n",
    "    per_device_eval_batch_size=8,\n",
    "    num_train_epochs=3,\n",
    "    weight_decay=0.01,\n",
    ")\n",
    "\n"
   ]
  },
  {
   "cell_type": "markdown",
   "id": "46974df8",
   "metadata": {},
   "source": [
    "### Train the Models on small datasets\n",
    "#### Train the model 1 : AutoModel ForSequenceClassification - \"bert-base-uncased\"\n",
    "\n",
    "Ici, nous utilisons la class trainer pour optimiser l'[entrainement de notre modèle transformers](https://huggingface.co/docs/transformers/training#train).\n",
    "\n",
    "Nous chargeons notre modèle et nous spécifions le nombre de label attendus (Ici 2 = 0 ou 1)\n"
   ]
  },
  {
   "cell_type": "code",
   "execution_count": 80,
   "id": "e176c2b2",
   "metadata": {},
   "outputs": [
    {
     "name": "stderr",
     "output_type": "stream",
     "text": [
      "Some weights of the model checkpoint at bert-base-uncased were not used when initializing BertForSequenceClassification: ['cls.seq_relationship.weight', 'cls.predictions.transform.LayerNorm.weight', 'cls.predictions.transform.dense.bias', 'cls.predictions.transform.dense.weight', 'cls.predictions.bias', 'cls.seq_relationship.bias', 'cls.predictions.transform.LayerNorm.bias', 'cls.predictions.decoder.weight']\n",
      "- This IS expected if you are initializing BertForSequenceClassification from the checkpoint of a model trained on another task or with another architecture (e.g. initializing a BertForSequenceClassification model from a BertForPreTraining model).\n",
      "- This IS NOT expected if you are initializing BertForSequenceClassification from the checkpoint of a model that you expect to be exactly identical (initializing a BertForSequenceClassification model from a BertForSequenceClassification model).\n",
      "Some weights of BertForSequenceClassification were not initialized from the model checkpoint at bert-base-uncased and are newly initialized: ['classifier.weight', 'classifier.bias']\n",
      "You should probably TRAIN this model on a down-stream task to be able to use it for predictions and inference.\n"
     ]
    }
   ],
   "source": [
    "# Load BERT with AutoModelForSequenceClassification along with the number of expected labels:\n",
    "model_bert1 = AutoModelForSequenceClassification.from_pretrained(\"bert-base-uncased\", num_labels=2)\n"
   ]
  },
  {
   "cell_type": "markdown",
   "id": "97b2d923",
   "metadata": {},
   "source": [
    "#### Trainer\n",
    "\n",
    "Créer un objet Trainer avec notre modèle, nos arguments et nos datasets et fonctions d'évaluation."
   ]
  },
  {
   "cell_type": "code",
   "execution_count": 19,
   "id": "58148110",
   "metadata": {},
   "outputs": [],
   "source": [
    "# Pass the training arguments to Trainer along with the model, dataset, tokenizer, and data collator.\n",
    "trainer1 = Trainer(\n",
    "    model=model_bert1,\n",
    "    args=training_args,\n",
    "    train_dataset=tokenized_sentiment[\"train\"],\n",
    "    eval_dataset=tokenized_sentiment[\"test\"],\n",
    "    tokenizer=tokenizer,\n",
    "    data_collator=data_collator,\n",
    ")\n",
    "\n"
   ]
  },
  {
   "cell_type": "code",
   "execution_count": 20,
   "id": "facd69ce",
   "metadata": {},
   "outputs": [
    {
     "data": {
      "text/html": [
       "\n",
       "    <div>\n",
       "      \n",
       "      <progress value='1600' max='1600' style='width:300px; height:20px; vertical-align: middle;'></progress>\n",
       "      [1600/1600 06:51, Epoch 5/5]\n",
       "    </div>\n",
       "    <table border=\"1\" class=\"dataframe\">\n",
       "  <thead>\n",
       "    <tr style=\"text-align: left;\">\n",
       "      <th>Step</th>\n",
       "      <th>Training Loss</th>\n",
       "    </tr>\n",
       "  </thead>\n",
       "  <tbody>\n",
       "    <tr>\n",
       "      <td>500</td>\n",
       "      <td>0.504600</td>\n",
       "    </tr>\n",
       "    <tr>\n",
       "      <td>1000</td>\n",
       "      <td>0.266600</td>\n",
       "    </tr>\n",
       "    <tr>\n",
       "      <td>1500</td>\n",
       "      <td>0.115000</td>\n",
       "    </tr>\n",
       "  </tbody>\n",
       "</table><p>"
      ],
      "text/plain": [
       "<IPython.core.display.HTML object>"
      ]
     },
     "metadata": {},
     "output_type": "display_data"
    },
    {
     "data": {
      "text/plain": [
       "TrainOutput(global_step=1600, training_loss=0.28231344521045687, metrics={'train_runtime': 413.3238, 'train_samples_per_second': 3.871, 'total_flos': 30448752467136.0, 'epoch': 5.0})"
      ]
     },
     "execution_count": 20,
     "metadata": {},
     "output_type": "execute_result"
    }
   ],
   "source": [
    "trainer1.train()"
   ]
  },
  {
   "cell_type": "markdown",
   "id": "9471c1ec",
   "metadata": {},
   "source": [
    "#### Predict\n",
    "La sortie de la commande predict est un Tuple contenant 3 champs: predictions, label_ids, and metrics.\n",
    "\n",
    "[Refer to HuggingFace doc](https://huggingface.co/course/chapter3/3?fw=pt#evaluation)\n",
    "\n",
    "La prédiction est un tableau à 2 dimensions. Nous devons prendre l'index avec la valeur maximum du 2eme axes."
   ]
  },
  {
   "cell_type": "code",
   "execution_count": 21,
   "id": "d0a510b0",
   "metadata": {},
   "outputs": [
    {
     "data": {
      "text/html": [
       "\n",
       "    <div>\n",
       "      \n",
       "      <progress value='160' max='80' style='width:300px; height:20px; vertical-align: middle;'></progress>\n",
       "      [80/80 00:09]\n",
       "    </div>\n",
       "    "
      ],
      "text/plain": [
       "<IPython.core.display.HTML object>"
      ]
     },
     "metadata": {},
     "output_type": "display_data"
    },
    {
     "data": {
      "text/plain": [
       "array([0, 0, 1, 1, 1, 1, 0, 0, 1, 1, 0, 0, 1, 0, 0, 1, 0, 1, 1, 1, 0, 0,\n",
       "       0, 0, 1, 0, 1, 1, 0, 0, 0, 0, 0, 1, 1, 1, 1, 0, 1, 0, 1, 1, 1, 1,\n",
       "       0, 0, 1, 0, 0, 1, 0, 0, 1, 0, 1, 0, 1, 1, 1, 0, 0, 1, 0, 0, 1, 1,\n",
       "       1, 1, 1, 0, 1, 0, 1, 1, 1, 1, 0, 0, 1, 1, 0, 1, 0, 0, 1, 1, 1, 0,\n",
       "       0, 0, 0, 1, 1, 1, 0, 1, 0, 1, 1, 0, 0, 1, 0, 1, 1, 0, 1, 1, 1, 1,\n",
       "       0, 0, 0, 1, 0, 0, 1, 0, 0, 1, 1, 1, 1, 0, 0, 0, 0, 0, 1, 1, 1, 1,\n",
       "       1, 0, 0, 0, 1, 1, 1, 0, 0, 0, 1, 1, 1, 1, 0, 0, 0, 1, 1, 0, 0, 1,\n",
       "       1, 1, 0, 0, 0, 1, 1, 0, 1, 1, 0, 1, 0, 1, 0, 1, 0, 1, 1, 0, 1, 1,\n",
       "       0, 0, 0, 1, 1, 1, 1, 1, 0, 0, 0, 1, 1, 1, 0, 0, 0, 1, 1, 0, 1, 1,\n",
       "       1, 1, 0, 0, 0, 0, 1, 1, 0, 1, 0, 1, 1, 1, 0, 1, 0, 0, 0, 1, 0, 0,\n",
       "       0, 1, 0, 0, 1, 1, 0, 1, 1, 0, 1, 0, 0, 1, 1, 0, 1, 0, 0, 0, 0, 1,\n",
       "       1, 1, 1, 0, 1, 0, 0, 0, 0, 1, 0, 1, 0, 1, 1, 0, 0, 1, 0, 1, 0, 0,\n",
       "       0, 0, 1, 1, 1, 0, 0, 0, 1, 1, 1, 1, 0, 0, 0, 1, 0, 1, 0, 0, 0, 0,\n",
       "       0, 0, 1, 1, 0, 0, 1, 0, 1, 0, 1, 1, 0, 1, 0, 1, 0, 0, 0, 1, 1, 1,\n",
       "       0, 1, 0, 1, 0, 1, 0, 1, 1, 1, 1, 0, 0, 0, 1, 1, 0, 1, 1, 1, 1, 0,\n",
       "       0, 0, 1, 1, 0, 0, 0, 1, 1, 0, 1, 1, 0, 1, 0, 1, 0, 1, 1, 1, 0, 1,\n",
       "       0, 1, 1, 1, 1, 1, 0, 1, 1, 0, 1, 1, 0, 0, 1, 0, 0, 0, 0, 0, 1, 0,\n",
       "       1, 0, 0, 0, 1, 0, 1, 1, 0, 1, 0, 0, 0, 1, 1, 1, 1, 0, 0, 0, 1, 0,\n",
       "       1, 1, 1, 0, 1, 0, 1, 1, 1, 0, 1, 0, 0, 1, 1, 0, 1, 1, 1, 1, 1, 0,\n",
       "       1, 0, 1, 1, 1, 1, 0, 0, 0, 1, 1, 0, 0, 0, 1, 1, 0, 0, 0, 0, 1, 0,\n",
       "       1, 1, 0, 0, 0, 1, 1, 1, 0, 0, 1, 1, 0, 1, 1, 0, 1, 0, 0, 1, 0, 0,\n",
       "       1, 0, 0, 0, 0, 1, 0, 0, 1, 1, 1, 1, 1, 0, 0, 0, 1, 1, 1, 1, 0, 1,\n",
       "       1, 1, 1, 0, 1, 0, 0, 0, 0, 1, 0, 0, 1, 1, 1, 0, 1, 0, 1, 0, 1, 1,\n",
       "       0, 1, 1, 1, 1, 1, 0, 0, 1, 0, 1, 0, 0, 1, 1, 1, 0, 0, 0, 0, 0, 1,\n",
       "       0, 1, 0, 1, 1, 0, 1, 1, 0, 0, 0, 1, 0, 0, 1, 1, 1, 0, 0, 1, 0, 0,\n",
       "       1, 1, 1, 1, 0, 0, 1, 1, 1, 1, 0, 0, 0, 1, 0, 0, 1, 1, 1, 0, 1, 1,\n",
       "       0, 0, 1, 0, 1, 1, 1, 1, 1, 0, 0, 1, 1, 1, 1, 0, 0, 0, 0, 0, 1, 0,\n",
       "       0, 0, 1, 1, 0, 1, 1, 1, 0, 1, 0, 1, 1, 1, 1, 1, 1, 1, 1, 0, 0, 1,\n",
       "       0, 1, 1, 1, 0, 1, 1, 0, 1, 1, 0, 1, 0, 1, 1, 1, 1, 0, 0, 0, 0, 0,\n",
       "       1, 1], dtype=int64)"
      ]
     },
     "execution_count": 21,
     "metadata": {},
     "output_type": "execute_result"
    }
   ],
   "source": [
    "y_prob = trainer1.predict(tokenized_sentiment[\"test\"]) #test_text\n",
    "#y_prob[0]\n",
    "y_pred = np.argmax(y_prob.predictions, axis=-1)\n",
    "y_pred\n"
   ]
  },
  {
   "cell_type": "code",
   "execution_count": 22,
   "id": "4176de78",
   "metadata": {},
   "outputs": [
    {
     "name": "stdout",
     "output_type": "stream",
     "text": [
      "(640, 2) (640,)\n"
     ]
    }
   ],
   "source": [
    "print(y_prob.predictions.shape, y_prob.label_ids.shape)"
   ]
  },
  {
   "cell_type": "code",
   "execution_count": 23,
   "id": "732f21a8",
   "metadata": {},
   "outputs": [
    {
     "data": {
      "text/plain": [
       "{'test_loss': 1.0828139781951904,\n",
       " 'test_runtime': 4.7965,\n",
       " 'test_samples_per_second': 133.432}"
      ]
     },
     "execution_count": 23,
     "metadata": {},
     "output_type": "execute_result"
    }
   ],
   "source": [
    "y_prob[2]"
   ]
  },
  {
   "cell_type": "code",
   "execution_count": 24,
   "id": "6e82cf5a",
   "metadata": {},
   "outputs": [
    {
     "data": {
      "text/plain": [
       "array([[ 3.4468405, -3.3625178],\n",
       "       [ 2.4050932, -1.7850631],\n",
       "       [-3.2621017,  3.2751007],\n",
       "       [-2.5521908,  2.632381 ],\n",
       "       [-1.0905306,  1.2925358],\n",
       "       [-3.0590928,  3.024086 ],\n",
       "       [ 3.0262783, -2.8779526],\n",
       "       [ 3.5097845, -3.367872 ],\n",
       "       [-3.1300006,  3.031073 ],\n",
       "       [-3.5851698,  3.451444 ]], dtype=float32)"
      ]
     },
     "execution_count": 24,
     "metadata": {},
     "output_type": "execute_result"
    }
   ],
   "source": [
    "y_prob[0][:10]"
   ]
  },
  {
   "cell_type": "code",
   "execution_count": 25,
   "id": "6d54485f",
   "metadata": {},
   "outputs": [
    {
     "data": {
      "text/plain": [
       "array([0, 0, 1, 1, 0, 0, 1, 0, 1, 1], dtype=int64)"
      ]
     },
     "execution_count": 25,
     "metadata": {},
     "output_type": "execute_result"
    }
   ],
   "source": [
    "y_prob[1][:10]"
   ]
  },
  {
   "cell_type": "code",
   "execution_count": 26,
   "id": "8ff7ee56",
   "metadata": {},
   "outputs": [
    {
     "data": {
      "text/plain": [
       "array([0, 0, 1, 1, 1, 1, 0, 0, 1, 1], dtype=int64)"
      ]
     },
     "execution_count": 26,
     "metadata": {},
     "output_type": "execute_result"
    }
   ],
   "source": [
    "y_pred[:10]"
   ]
  },
  {
   "cell_type": "code",
   "execution_count": 27,
   "id": "67810353",
   "metadata": {},
   "outputs": [
    {
     "data": {
      "text/plain": [
       "[0, 0, 1, 1, 0, 0, 1, 0, 1, 1]"
      ]
     },
     "execution_count": 27,
     "metadata": {},
     "output_type": "execute_result"
    }
   ],
   "source": [
    "tokenized_sentiment[\"test\"][\"labels\"][:10]"
   ]
  },
  {
   "cell_type": "code",
   "execution_count": 28,
   "id": "55ec617e",
   "metadata": {},
   "outputs": [],
   "source": [
    "#tokenized_sentiment[\"test\"][:10]"
   ]
  },
  {
   "cell_type": "code",
   "execution_count": 29,
   "id": "3bdb376a",
   "metadata": {},
   "outputs": [
    {
     "data": {
      "text/plain": [
       "{'eval_loss': 1.0828139781951904,\n",
       " 'eval_runtime': 4.4936,\n",
       " 'eval_samples_per_second': 142.426,\n",
       " 'epoch': 5.0}"
      ]
     },
     "execution_count": 29,
     "metadata": {},
     "output_type": "execute_result"
    }
   ],
   "source": [
    "trainer1.evaluate(tokenized_sentiment[\"test\"])"
   ]
  },
  {
   "cell_type": "code",
   "execution_count": 30,
   "id": "f9b905ec",
   "metadata": {},
   "outputs": [
    {
     "name": "stdout",
     "output_type": "stream",
     "text": [
      "              precision    recall  f1-score   support\n",
      "\n",
      "           0       0.80      0.76      0.78       318\n",
      "           1       0.77      0.81      0.79       322\n",
      "\n",
      "    accuracy                           0.78       640\n",
      "   macro avg       0.78      0.78      0.78       640\n",
      "weighted avg       0.78      0.78      0.78       640\n",
      "\n"
     ]
    }
   ],
   "source": [
    "from sklearn.metrics import classification_report\n",
    "print(classification_report(y_prob[1], y_pred))"
   ]
  },
  {
   "cell_type": "code",
   "execution_count": 31,
   "id": "3311f254",
   "metadata": {},
   "outputs": [
    {
     "data": {
      "text/plain": [
       "0.782657525684597"
      ]
     },
     "execution_count": 31,
     "metadata": {},
     "output_type": "execute_result"
    }
   ],
   "source": [
    "y_test = dataset[\"test\"][\"labels\"]\n",
    "false_positive_rate, true_positive_rate, thresholds = roc_curve(y_prob[1], y_pred)\n",
    "Roc_AUC_score = auc(false_positive_rate, true_positive_rate)\n",
    "Roc_AUC_score"
   ]
  },
  {
   "cell_type": "code",
   "execution_count": 32,
   "id": "b5a61117",
   "metadata": {},
   "outputs": [],
   "source": [
    "F1_score = f1_score(y_prob[1], y_pred)\n",
    "FBeta_score = fbeta_score(y_prob[1], y_pred, average='binary', beta=0.5, pos_label=1) #make_scorer(fbeta_score, beta = 2, pos_label=0 ,average = 'binary')\n",
    "Recall_score = recall_score(y_prob[1], y_pred)\n",
    "Precision_score = precision_score(y_prob[1], y_pred)\n",
    "Accuracy_score = accuracy_score(y_prob[1], y_pred)"
   ]
  },
  {
   "cell_type": "code",
   "execution_count": 33,
   "id": "c5eed088",
   "metadata": {},
   "outputs": [],
   "source": [
    "model_name=\"1. BERT AutoModel - bert-base-uncased\"\n",
    "model_folder_path = './bert_models'\n",
    "model_file_path = os.path.join(model_folder_path, model_name)\n",
    "seuil=0.5\n",
    "binary_transform = True"
   ]
  },
  {
   "cell_type": "code",
   "execution_count": 34,
   "id": "ff744b1e",
   "metadata": {},
   "outputs": [
    {
     "data": {
      "image/png": "[encoded data removed]",
      "text/plain": [
       "<Figure size 360x360 with 1 Axes>"
      ]
     },
     "metadata": {},
     "output_type": "display_data"
    }
   ],
   "source": [
    "#Plot functions\n",
    "matrix_pred_model(model_bert1, model_name, y_prob[1], y_pred) \n",
    "#plot_roc_auc_curve(model_name, false_positive_rate, true_positive_rate)\n",
    "    "
   ]
  },
  {
   "cell_type": "code",
   "execution_count": 35,
   "id": "5dac4e74",
   "metadata": {},
   "outputs": [],
   "source": [
    "\n",
    "score_results = pd.Series([model_bert1, model_name, seuil, F1_score, FBeta_score, Recall_score, Precision_score, Accuracy_score, Roc_AUC_score])\n",
    "score_results_stored = pd.DataFrame([score_results.values],  columns = score_column_names)\n",
    "store_score = pd.concat([store_score, score_results_stored], axis=0, ignore_index=True)\n"
   ]
  },
  {
   "cell_type": "code",
   "execution_count": 36,
   "id": "22a15dcc",
   "metadata": {},
   "outputs": [
    {
     "data": {
      "text/html": [
       "<div>\n",
       "<style scoped>\n",
       "    .dataframe tbody tr th:only-of-type {\n",
       "        vertical-align: middle;\n",
       "    }\n",
       "\n",
       "    .dataframe tbody tr th {\n",
       "        vertical-align: top;\n",
       "    }\n",
       "\n",
       "    .dataframe thead th {\n",
       "        text-align: right;\n",
       "    }\n",
       "</style>\n",
       "<table border=\"1\" class=\"dataframe\">\n",
       "  <thead>\n",
       "    <tr style=\"text-align: right;\">\n",
       "      <th></th>\n",
       "      <th>Model Type</th>\n",
       "      <th>Model Name</th>\n",
       "      <th>seuil</th>\n",
       "      <th>F1-Score</th>\n",
       "      <th>FBeta-Score</th>\n",
       "      <th>Recall_score</th>\n",
       "      <th>Precision_score</th>\n",
       "      <th>Accuracy_score</th>\n",
       "      <th>Roc_AUC_score</th>\n",
       "    </tr>\n",
       "  </thead>\n",
       "  <tbody>\n",
       "    <tr>\n",
       "      <th>0</th>\n",
       "      <td>BertForSequenceClassification(\\n  (bert): Bert...</td>\n",
       "      <td>1. BERT AutoModel - bert-base-uncased</td>\n",
       "      <td>0.5</td>\n",
       "      <td>0.789074</td>\n",
       "      <td>0.778443</td>\n",
       "      <td>0.807453</td>\n",
       "      <td>0.771513</td>\n",
       "      <td>0.782813</td>\n",
       "      <td>0.782658</td>\n",
       "    </tr>\n",
       "  </tbody>\n",
       "</table>\n",
       "</div>"
      ],
      "text/plain": [
       "                                          Model Type  \\\n",
       "0  BertForSequenceClassification(\\n  (bert): Bert...   \n",
       "\n",
       "                              Model Name seuil  F1-Score FBeta-Score  \\\n",
       "0  1. BERT AutoModel - bert-base-uncased   0.5  0.789074    0.778443   \n",
       "\n",
       "  Recall_score Precision_score Accuracy_score Roc_AUC_score  \n",
       "0     0.807453        0.771513       0.782813      0.782658  "
      ]
     },
     "execution_count": 36,
     "metadata": {},
     "output_type": "execute_result"
    }
   ],
   "source": [
    "store_score"
   ]
  },
  {
   "cell_type": "markdown",
   "id": "c6f01005",
   "metadata": {},
   "source": [
    "#### Train the model 2 : AutoModel ForSequenceClassification - \"distilbert-base-uncased\"\n"
   ]
  },
  {
   "cell_type": "code",
   "execution_count": 37,
   "id": "dd58b5b1",
   "metadata": {},
   "outputs": [
    {
     "name": "stderr",
     "output_type": "stream",
     "text": [
      "Some weights of the model checkpoint at distilbert-base-uncased were not used when initializing DistilBertForSequenceClassification: ['vocab_transform.bias', 'vocab_layer_norm.weight', 'vocab_layer_norm.bias', 'vocab_transform.weight', 'vocab_projector.weight', 'vocab_projector.bias']\n",
      "- This IS expected if you are initializing DistilBertForSequenceClassification from the checkpoint of a model trained on another task or with another architecture (e.g. initializing a BertForSequenceClassification model from a BertForPreTraining model).\n",
      "- This IS NOT expected if you are initializing DistilBertForSequenceClassification from the checkpoint of a model that you expect to be exactly identical (initializing a BertForSequenceClassification model from a BertForSequenceClassification model).\n",
      "Some weights of DistilBertForSequenceClassification were not initialized from the model checkpoint at distilbert-base-uncased and are newly initialized: ['classifier.bias', 'pre_classifier.bias', 'classifier.weight', 'pre_classifier.weight']\n",
      "You should probably TRAIN this model on a down-stream task to be able to use it for predictions and inference.\n"
     ]
    }
   ],
   "source": [
    "# Load BERT with AutoModelForSequenceClassification along with the number of expected labels:\n",
    "model_bert2 = AutoModelForSequenceClassification.from_pretrained(\"distilbert-base-uncased\", num_labels=2)"
   ]
  },
  {
   "cell_type": "code",
   "execution_count": 38,
   "id": "96d5c6bc",
   "metadata": {},
   "outputs": [],
   "source": [
    "# Pass the training arguments to Trainer along with the model, dataset, tokenizer, and data collator.\n",
    "trainer2 = Trainer(\n",
    "    model=model_bert2,\n",
    "    args=training_args,\n",
    "    train_dataset=tokenized_sentiment[\"train\"],\n",
    "    eval_dataset=tokenized_sentiment[\"test\"],\n",
    "    tokenizer=tokenizer,\n",
    "    data_collator=data_collator,\n",
    ")\n"
   ]
  },
  {
   "cell_type": "code",
   "execution_count": 39,
   "id": "adaa9afe",
   "metadata": {},
   "outputs": [
    {
     "data": {
      "text/html": [
       "\n",
       "    <div>\n",
       "      \n",
       "      <progress value='1600' max='1600' style='width:300px; height:20px; vertical-align: middle;'></progress>\n",
       "      [1600/1600 03:43, Epoch 5/5]\n",
       "    </div>\n",
       "    <table border=\"1\" class=\"dataframe\">\n",
       "  <thead>\n",
       "    <tr style=\"text-align: left;\">\n",
       "      <th>Step</th>\n",
       "      <th>Training Loss</th>\n",
       "    </tr>\n",
       "  </thead>\n",
       "  <tbody>\n",
       "    <tr>\n",
       "      <td>500</td>\n",
       "      <td>0.475800</td>\n",
       "    </tr>\n",
       "    <tr>\n",
       "      <td>1000</td>\n",
       "      <td>0.256500</td>\n",
       "    </tr>\n",
       "    <tr>\n",
       "      <td>1500</td>\n",
       "      <td>0.110900</td>\n",
       "    </tr>\n",
       "  </tbody>\n",
       "</table><p>"
      ],
      "text/plain": [
       "<IPython.core.display.HTML object>"
      ]
     },
     "metadata": {},
     "output_type": "display_data"
    },
    {
     "data": {
      "text/plain": [
       "TrainOutput(global_step=1600, training_loss=0.26878271222114564, metrics={'train_runtime': 223.1634, 'train_samples_per_second': 7.17, 'total_flos': 18627419422080.0, 'epoch': 5.0})"
      ]
     },
     "execution_count": 39,
     "metadata": {},
     "output_type": "execute_result"
    }
   ],
   "source": [
    "trainer2.train()"
   ]
  },
  {
   "cell_type": "code",
   "execution_count": 40,
   "id": "eaa17a52",
   "metadata": {},
   "outputs": [
    {
     "data": {
      "text/html": [
       "\n",
       "    <div>\n",
       "      \n",
       "      <progress value='80' max='80' style='width:300px; height:20px; vertical-align: middle;'></progress>\n",
       "      [80/80 00:02]\n",
       "    </div>\n",
       "    "
      ],
      "text/plain": [
       "<IPython.core.display.HTML object>"
      ]
     },
     "metadata": {},
     "output_type": "display_data"
    },
    {
     "data": {
      "text/plain": [
       "array([1, 1, 0, 1, 1, 1, 0, 0, 1, 0, 0, 1, 1, 0, 0, 0, 1, 1, 0, 1, 0, 0,\n",
       "       0, 1, 1, 0, 1, 0, 1, 1, 0, 1, 0, 0, 1, 1, 1, 1, 0, 1, 1, 0, 1, 0,\n",
       "       1, 0, 1, 1, 1, 1, 0, 0, 0, 1, 1, 0, 0, 1, 1, 0, 1, 0, 1, 1, 1, 0,\n",
       "       1, 1, 1, 1, 1, 1, 0, 1, 0, 1, 0, 1, 1, 1, 1, 0, 0, 0, 0, 0, 1, 0,\n",
       "       0, 0, 0, 0, 1, 1, 1, 0, 0, 1, 1, 1, 1, 0, 0, 1, 1, 0, 0, 1, 1, 0,\n",
       "       1, 1, 1, 0, 0, 1, 0, 1, 1, 1, 1, 1, 0, 0, 1, 0, 0, 0, 0, 0, 0, 0,\n",
       "       1, 0, 1, 0, 0, 1, 0, 0, 0, 0, 0, 1, 1, 1, 1, 0, 1, 0, 0, 1, 0, 1,\n",
       "       0, 1, 1, 0, 0, 1, 0, 0, 1, 0, 0, 1, 0, 1, 0, 0, 0, 1, 0, 1, 1, 0,\n",
       "       0, 0, 0, 0, 0, 1, 0, 0, 1, 0, 0, 1, 1, 0, 0, 0, 1, 0, 0, 1, 1, 0,\n",
       "       0, 1, 1, 1, 1, 1, 1, 1, 0, 1, 0, 1, 0, 0, 0, 0, 1, 1, 0, 1, 0, 1,\n",
       "       1, 0, 0, 1, 1, 0, 1, 0, 1, 0, 1, 1, 1, 1, 1, 0, 1, 0, 0, 1, 0, 0,\n",
       "       1, 1, 1, 0, 0, 0, 1, 1, 0, 0, 1, 0, 0, 1, 1, 0, 0, 1, 1, 1, 1, 0,\n",
       "       1, 0, 0, 0, 0, 1, 1, 1, 1, 1, 1, 0, 1, 0, 0, 0, 0, 1, 0, 1, 1, 1,\n",
       "       1, 1, 0, 0, 1, 1, 1, 1, 0, 1, 0, 1, 1, 0, 0, 0, 0, 1, 0, 0, 1, 1,\n",
       "       0, 1, 0, 0, 1, 0, 1, 0, 1, 0, 0, 0, 0, 1, 1, 0, 0, 0, 1, 1, 0, 0,\n",
       "       0, 1, 0, 1, 1, 0, 0, 0, 1, 1, 1, 1, 1, 0, 0, 0, 0, 1, 1, 1, 0, 0,\n",
       "       0, 1, 0, 0, 1, 0, 1, 0, 0, 1, 0, 0, 1, 1, 1, 0, 0, 1, 1, 0, 0, 1,\n",
       "       0, 0, 1, 1, 0, 0, 1, 1, 1, 0, 0, 1, 1, 0, 0, 0, 0, 1, 1, 0, 1, 0,\n",
       "       1, 0, 0, 1, 1, 1, 1, 0, 1, 1, 0, 0, 0, 1, 1, 1, 0, 0, 1, 0, 1, 1,\n",
       "       0, 0, 1, 1, 0, 1, 1, 0, 1, 0, 0, 0, 1, 0, 0, 1, 1, 0, 0, 1, 0, 0,\n",
       "       0, 1, 0, 0, 1, 0, 0, 0, 0, 0, 1, 1, 0, 0, 1, 0, 1, 1, 1, 0, 1, 1,\n",
       "       0, 0, 1, 0, 1, 1, 0, 1, 0, 0, 1, 0, 0, 1, 0, 1, 0, 0, 1, 1, 0, 1,\n",
       "       0, 0, 1, 0, 0, 0, 1, 1, 0, 1, 1, 0, 1, 1, 1, 1, 1, 0, 1, 1, 0, 0,\n",
       "       0, 0, 1, 0, 1, 0, 1, 0, 1, 0, 0, 0, 1, 0, 1, 0, 0, 1, 1, 1, 1, 1,\n",
       "       0, 1, 1, 0, 1, 1, 0, 1, 0, 0, 0, 0, 1, 1, 0, 1, 0, 0, 1, 1, 0, 0,\n",
       "       1, 0, 1, 0, 1, 1, 0, 1, 0, 0, 1, 0, 1, 0, 1, 0, 0, 1, 0, 1, 0, 1,\n",
       "       0, 1, 1, 1, 0, 0, 0, 0, 0, 0, 0, 0, 0, 0, 0, 1, 0, 0, 0, 1, 1, 0,\n",
       "       0, 1, 1, 1, 0, 0, 0, 1, 1, 1, 1, 1, 1, 1, 1, 1, 1, 1, 0, 0, 1, 1,\n",
       "       0, 1, 1, 0, 0, 1, 1, 0, 1, 0, 1, 0, 0, 1, 0, 0, 1, 1, 1, 0, 0, 0,\n",
       "       0, 0], dtype=int64)"
      ]
     },
     "execution_count": 40,
     "metadata": {},
     "output_type": "execute_result"
    }
   ],
   "source": [
    "y_prob = trainer2.predict(tokenized_sentiment[\"test\"]) #test_text\n",
    "#y_prob[0]\n",
    "y_pred = np.argmax(y_prob.predictions, axis=-1)\n",
    "y_pred"
   ]
  },
  {
   "cell_type": "code",
   "execution_count": 41,
   "id": "5876abaf",
   "metadata": {},
   "outputs": [
    {
     "data": {
      "text/html": [
       "<div>\n",
       "<style scoped>\n",
       "    .dataframe tbody tr th:only-of-type {\n",
       "        vertical-align: middle;\n",
       "    }\n",
       "\n",
       "    .dataframe tbody tr th {\n",
       "        vertical-align: top;\n",
       "    }\n",
       "\n",
       "    .dataframe thead th {\n",
       "        text-align: right;\n",
       "    }\n",
       "</style>\n",
       "<table border=\"1\" class=\"dataframe\">\n",
       "  <thead>\n",
       "    <tr style=\"text-align: right;\">\n",
       "      <th></th>\n",
       "      <th>Model Type</th>\n",
       "      <th>Model Name</th>\n",
       "      <th>seuil</th>\n",
       "      <th>F1-Score</th>\n",
       "      <th>FBeta-Score</th>\n",
       "      <th>Recall_score</th>\n",
       "      <th>Precision_score</th>\n",
       "      <th>Accuracy_score</th>\n",
       "      <th>Roc_AUC_score</th>\n",
       "    </tr>\n",
       "  </thead>\n",
       "  <tbody>\n",
       "    <tr>\n",
       "      <th>0</th>\n",
       "      <td>BertForSequenceClassification(\\n  (bert): Bert...</td>\n",
       "      <td>1. BERT AutoModel - bert-base-uncased</td>\n",
       "      <td>0.5</td>\n",
       "      <td>0.790123</td>\n",
       "      <td>0.788663</td>\n",
       "      <td>0.79257</td>\n",
       "      <td>0.787692</td>\n",
       "      <td>0.7875</td>\n",
       "      <td>0.787452</td>\n",
       "    </tr>\n",
       "    <tr>\n",
       "      <th>1</th>\n",
       "      <td>DistilBertForSequenceClassification(\\n  (disti...</td>\n",
       "      <td>2. BERT AutoModel - distilbert-base-uncased</td>\n",
       "      <td>0.5</td>\n",
       "      <td>0.774295</td>\n",
       "      <td>0.780164</td>\n",
       "      <td>0.764706</td>\n",
       "      <td>0.784127</td>\n",
       "      <td>0.775</td>\n",
       "      <td>0.775097</td>\n",
       "    </tr>\n",
       "  </tbody>\n",
       "</table>\n",
       "</div>"
      ],
      "text/plain": [
       "                                          Model Type  \\\n",
       "0  BertForSequenceClassification(\\n  (bert): Bert...   \n",
       "1  DistilBertForSequenceClassification(\\n  (disti...   \n",
       "\n",
       "                                    Model Name seuil  F1-Score FBeta-Score  \\\n",
       "0        1. BERT AutoModel - bert-base-uncased   0.5  0.790123    0.788663   \n",
       "1  2. BERT AutoModel - distilbert-base-uncased   0.5  0.774295    0.780164   \n",
       "\n",
       "  Recall_score Precision_score Accuracy_score Roc_AUC_score  \n",
       "0      0.79257        0.787692         0.7875      0.787452  \n",
       "1     0.764706        0.784127          0.775      0.775097  "
      ]
     },
     "execution_count": 41,
     "metadata": {},
     "output_type": "execute_result"
    }
   ],
   "source": [
    "model_name=\"2. BERT AutoModel - distilbert-base-uncased\"\n",
    "model_folder_path = './bert_models'\n",
    "model_file_path = os.path.join(model_folder_path, model_name)\n",
    "seuil=0.5\n",
    "binary_transform = True\n",
    "\n",
    "false_positive_rate, true_positive_rate, thresholds = roc_curve(y_prob[1], y_pred)\n",
    "Roc_AUC_score = auc(false_positive_rate, true_positive_rate)\n",
    "F1_score = f1_score(y_prob[1], y_pred)\n",
    "FBeta_score = fbeta_score(y_prob[1], y_pred, average='binary', beta=0.5, pos_label=1) #make_scorer(fbeta_score, beta = 2, pos_label=0 ,average = 'binary')\n",
    "Recall_score = recall_score(y_prob[1], y_pred)\n",
    "Precision_score = precision_score(y_prob[1], y_pred)\n",
    "Accuracy_score = accuracy_score(y_prob[1], y_pred)\n",
    "\n",
    "score_results = pd.Series([model_bert2, model_name, seuil, F1_score, FBeta_score, Recall_score, Precision_score, Accuracy_score, Roc_AUC_score])\n",
    "score_results_stored = pd.DataFrame([score_results.values],  columns = score_column_names)\n",
    "store_score = pd.concat([store_score, score_results_stored], axis=0, ignore_index=True)\n",
    "store_score"
   ]
  },
  {
   "cell_type": "code",
   "execution_count": 42,
   "id": "49fa68a6",
   "metadata": {},
   "outputs": [
    {
     "data": {
      "image/png": "[encoded data removed]",
      "text/plain": [
       "<Figure size 360x360 with 1 Axes>"
      ]
     },
     "metadata": {},
     "output_type": "display_data"
    }
   ],
   "source": [
    "#Plot functions\n",
    "matrix_pred_model(model_bert2, model_name, y_prob[1], y_pred) \n",
    "#plot_roc_auc_curve(model_name, false_positive_rate, true_positive_rate)\n",
    "    "
   ]
  },
  {
   "cell_type": "markdown",
   "id": "6a6d67be",
   "metadata": {},
   "source": [
    "#### Train the model 3 :Roberta ForSequenceClassification - \"bert-base-uncased\""
   ]
  },
  {
   "cell_type": "code",
   "execution_count": 16,
   "id": "4ea87f91",
   "metadata": {},
   "outputs": [
    {
     "name": "stderr",
     "output_type": "stream",
     "text": [
      "You are using a model of type bert to instantiate a model of type roberta. This is not supported for all configurations of models and can yield errors.\n",
      "Some weights of the model checkpoint at bert-base-uncased were not used when initializing RobertaForSequenceClassification: ['bert.encoder.layer.3.attention.self.key.weight', 'bert.encoder.layer.3.output.dense.bias', 'bert.encoder.layer.6.attention.self.key.weight', 'bert.encoder.layer.2.output.dense.bias', 'bert.encoder.layer.7.attention.self.value.weight', 'bert.encoder.layer.9.intermediate.dense.bias', 'bert.encoder.layer.4.intermediate.dense.weight', 'bert.encoder.layer.9.output.LayerNorm.bias', 'bert.encoder.layer.10.intermediate.dense.weight', 'bert.encoder.layer.6.intermediate.dense.weight', 'bert.encoder.layer.7.attention.output.LayerNorm.bias', 'bert.encoder.layer.5.attention.output.LayerNorm.weight', 'bert.encoder.layer.8.attention.self.query.weight', 'bert.encoder.layer.4.attention.output.dense.weight', 'bert.encoder.layer.2.attention.output.dense.bias', 'bert.encoder.layer.4.attention.self.key.weight', 'bert.encoder.layer.6.attention.self.query.bias', 'bert.encoder.layer.1.attention.self.value.weight', 'bert.encoder.layer.7.output.LayerNorm.weight', 'bert.encoder.layer.9.output.LayerNorm.weight', 'bert.encoder.layer.10.attention.self.key.bias', 'bert.encoder.layer.11.output.dense.bias', 'bert.encoder.layer.4.output.dense.weight', 'bert.encoder.layer.0.output.dense.bias', 'bert.encoder.layer.11.attention.output.dense.bias', 'bert.encoder.layer.10.attention.self.query.bias', 'bert.encoder.layer.10.attention.output.LayerNorm.bias', 'bert.encoder.layer.11.attention.output.LayerNorm.bias', 'bert.pooler.dense.bias', 'bert.encoder.layer.0.attention.output.dense.weight', 'bert.encoder.layer.4.attention.self.query.weight', 'bert.encoder.layer.6.output.LayerNorm.weight', 'bert.encoder.layer.10.output.dense.weight', 'bert.encoder.layer.11.attention.self.query.weight', 'bert.embeddings.LayerNorm.bias', 'bert.encoder.layer.11.output.LayerNorm.bias', 'bert.encoder.layer.2.output.LayerNorm.bias', 'bert.encoder.layer.4.attention.self.key.bias', 'bert.encoder.layer.2.attention.output.LayerNorm.bias', 'bert.encoder.layer.8.output.LayerNorm.weight', 'bert.encoder.layer.5.attention.self.key.bias', 'cls.predictions.bias', 'bert.encoder.layer.8.output.dense.weight', 'bert.encoder.layer.7.output.dense.bias', 'bert.encoder.layer.9.attention.output.LayerNorm.weight', 'bert.encoder.layer.3.attention.output.dense.bias', 'bert.encoder.layer.8.attention.output.dense.bias', 'bert.encoder.layer.5.attention.output.LayerNorm.bias', 'bert.encoder.layer.0.attention.self.key.bias', 'bert.encoder.layer.0.output.LayerNorm.bias', 'cls.predictions.transform.LayerNorm.bias', 'bert.encoder.layer.10.attention.self.key.weight', 'bert.encoder.layer.3.attention.self.query.weight', 'bert.encoder.layer.2.attention.self.value.bias', 'bert.encoder.layer.9.attention.self.value.bias', 'bert.encoder.layer.7.attention.output.LayerNorm.weight', 'cls.predictions.transform.LayerNorm.weight', 'bert.encoder.layer.5.attention.self.value.bias', 'bert.encoder.layer.9.attention.self.value.weight', 'bert.encoder.layer.0.attention.output.LayerNorm.bias', 'cls.predictions.decoder.weight', 'bert.encoder.layer.5.attention.self.query.bias', 'bert.embeddings.LayerNorm.weight', 'bert.encoder.layer.3.output.LayerNorm.weight', 'bert.encoder.layer.3.output.dense.weight', 'bert.encoder.layer.2.intermediate.dense.weight', 'bert.encoder.layer.3.attention.self.key.bias', 'bert.encoder.layer.5.output.LayerNorm.weight', 'bert.encoder.layer.1.attention.output.dense.weight', 'bert.encoder.layer.2.attention.output.dense.weight', 'bert.encoder.layer.2.attention.self.key.bias', 'bert.encoder.layer.4.attention.self.value.bias', 'bert.encoder.layer.6.output.dense.bias', 'bert.encoder.layer.3.attention.output.LayerNorm.bias', 'bert.encoder.layer.10.attention.output.LayerNorm.weight', 'bert.encoder.layer.5.attention.output.dense.bias', 'bert.encoder.layer.8.attention.self.value.bias', 'bert.encoder.layer.1.attention.self.key.weight', 'bert.encoder.layer.6.output.LayerNorm.bias', 'bert.encoder.layer.11.intermediate.dense.bias', 'bert.encoder.layer.8.intermediate.dense.weight', 'bert.encoder.layer.1.attention.output.LayerNorm.weight', 'bert.encoder.layer.5.attention.self.key.weight', 'bert.encoder.layer.2.attention.output.LayerNorm.weight', 'bert.encoder.layer.0.attention.self.key.weight', 'bert.encoder.layer.0.attention.self.query.weight', 'bert.encoder.layer.6.attention.self.value.weight', 'bert.encoder.layer.10.attention.self.query.weight', 'bert.encoder.layer.5.output.dense.bias', 'bert.encoder.layer.9.attention.output.dense.bias', 'bert.encoder.layer.8.output.LayerNorm.bias', 'cls.predictions.transform.dense.bias', 'bert.encoder.layer.0.attention.output.dense.bias', 'bert.encoder.layer.7.output.LayerNorm.bias', 'bert.encoder.layer.11.attention.output.LayerNorm.weight', 'bert.encoder.layer.5.attention.output.dense.weight', 'bert.encoder.layer.10.attention.output.dense.bias', 'bert.encoder.layer.1.output.LayerNorm.weight', 'bert.encoder.layer.2.output.LayerNorm.weight', 'bert.encoder.layer.2.output.dense.weight', 'bert.encoder.layer.4.output.dense.bias', 'bert.encoder.layer.4.attention.output.LayerNorm.weight', 'bert.encoder.layer.4.attention.self.value.weight', 'bert.encoder.layer.8.output.dense.bias', 'bert.encoder.layer.0.intermediate.dense.weight', 'bert.encoder.layer.7.attention.self.query.weight', 'bert.encoder.layer.7.attention.self.key.bias', 'bert.encoder.layer.2.attention.self.value.weight', 'bert.encoder.layer.5.attention.self.query.weight', 'bert.encoder.layer.6.attention.self.query.weight', 'bert.encoder.layer.6.attention.self.value.bias', 'bert.encoder.layer.6.attention.output.dense.weight', 'bert.encoder.layer.8.attention.output.dense.weight', 'bert.encoder.layer.1.attention.output.LayerNorm.bias', 'bert.encoder.layer.6.attention.output.LayerNorm.weight', 'bert.embeddings.token_type_embeddings.weight', 'bert.encoder.layer.8.intermediate.dense.bias', 'bert.encoder.layer.2.intermediate.dense.bias', 'bert.encoder.layer.3.attention.self.query.bias', 'bert.encoder.layer.0.output.LayerNorm.weight', 'bert.encoder.layer.1.intermediate.dense.bias', 'bert.encoder.layer.3.intermediate.dense.weight', 'bert.encoder.layer.10.output.LayerNorm.bias', 'bert.encoder.layer.6.attention.output.LayerNorm.bias', 'bert.encoder.layer.7.attention.output.dense.bias', 'bert.encoder.layer.10.output.dense.bias', 'bert.encoder.layer.1.attention.output.dense.bias', 'bert.encoder.layer.3.attention.output.dense.weight', 'bert.encoder.layer.3.attention.self.value.bias', 'bert.encoder.layer.3.intermediate.dense.bias', 'bert.encoder.layer.8.attention.self.key.weight', 'bert.encoder.layer.7.attention.self.value.bias', 'bert.encoder.layer.10.attention.self.value.bias', 'bert.encoder.layer.11.attention.self.key.weight', 'bert.encoder.layer.1.output.dense.bias', 'bert.encoder.layer.2.attention.self.query.bias', 'bert.encoder.layer.1.output.LayerNorm.bias', 'bert.encoder.layer.8.attention.output.LayerNorm.weight', 'bert.encoder.layer.0.attention.self.value.bias', 'bert.encoder.layer.9.attention.self.key.weight', 'bert.encoder.layer.9.output.dense.weight', 'bert.encoder.layer.11.attention.self.value.bias', 'bert.encoder.layer.5.attention.self.value.weight', 'bert.encoder.layer.0.attention.self.query.bias', 'bert.encoder.layer.0.output.dense.weight', 'bert.encoder.layer.11.intermediate.dense.weight', 'bert.encoder.layer.4.attention.output.dense.bias', 'bert.encoder.layer.11.attention.self.key.bias', 'bert.encoder.layer.5.output.dense.weight', 'bert.pooler.dense.weight', 'bert.encoder.layer.8.attention.self.query.bias', 'bert.encoder.layer.9.attention.self.query.weight', 'bert.encoder.layer.11.attention.self.value.weight', 'bert.encoder.layer.5.output.LayerNorm.bias', 'bert.encoder.layer.10.intermediate.dense.bias', 'bert.encoder.layer.1.attention.self.value.bias', 'bert.encoder.layer.10.attention.output.dense.weight', 'bert.encoder.layer.9.attention.output.LayerNorm.bias', 'bert.encoder.layer.10.attention.self.value.weight', 'bert.encoder.layer.7.intermediate.dense.bias', 'bert.encoder.layer.8.attention.self.key.bias', 'bert.encoder.layer.9.attention.output.dense.weight', 'bert.encoder.layer.1.intermediate.dense.weight', 'bert.encoder.layer.7.intermediate.dense.weight', 'bert.encoder.layer.1.attention.self.query.bias', 'bert.encoder.layer.7.attention.output.dense.weight', 'bert.encoder.layer.3.output.LayerNorm.bias', 'bert.encoder.layer.11.output.dense.weight', 'bert.encoder.layer.7.attention.self.key.weight', 'cls.seq_relationship.bias', 'bert.encoder.layer.11.attention.self.query.bias', 'bert.encoder.layer.7.attention.self.query.bias', 'bert.encoder.layer.8.attention.output.LayerNorm.bias', 'bert.encoder.layer.6.output.dense.weight', 'bert.encoder.layer.1.attention.self.query.weight', 'bert.encoder.layer.0.attention.output.LayerNorm.weight', 'bert.encoder.layer.8.attention.self.value.weight', 'bert.encoder.layer.6.intermediate.dense.bias', 'bert.encoder.layer.3.attention.output.LayerNorm.weight', 'bert.encoder.layer.11.attention.output.dense.weight', 'bert.encoder.layer.11.output.LayerNorm.weight', 'bert.encoder.layer.4.output.LayerNorm.weight', 'bert.encoder.layer.10.output.LayerNorm.weight', 'bert.encoder.layer.5.intermediate.dense.bias', 'bert.encoder.layer.2.attention.self.query.weight', 'bert.encoder.layer.0.attention.self.value.weight', 'bert.encoder.layer.4.output.LayerNorm.bias', 'bert.encoder.layer.9.attention.self.key.bias', 'bert.encoder.layer.0.intermediate.dense.bias', 'bert.encoder.layer.4.attention.self.query.bias', 'bert.encoder.layer.5.intermediate.dense.weight', 'bert.encoder.layer.4.attention.output.LayerNorm.bias', 'bert.encoder.layer.1.attention.self.key.bias', 'bert.encoder.layer.6.attention.output.dense.bias', 'cls.predictions.transform.dense.weight', 'cls.seq_relationship.weight', 'bert.embeddings.word_embeddings.weight', 'bert.encoder.layer.3.attention.self.value.weight', 'bert.encoder.layer.9.attention.self.query.bias', 'bert.encoder.layer.7.output.dense.weight', 'bert.encoder.layer.9.output.dense.bias', 'bert.embeddings.position_embeddings.weight', 'bert.encoder.layer.9.intermediate.dense.weight', 'bert.encoder.layer.2.attention.self.key.weight', 'bert.encoder.layer.1.output.dense.weight', 'bert.encoder.layer.4.intermediate.dense.bias', 'bert.encoder.layer.6.attention.self.key.bias']\n",
      "- This IS expected if you are initializing RobertaForSequenceClassification from the checkpoint of a model trained on another task or with another architecture (e.g. initializing a BertForSequenceClassification model from a BertForPreTraining model).\n",
      "- This IS NOT expected if you are initializing RobertaForSequenceClassification from the checkpoint of a model that you expect to be exactly identical (initializing a BertForSequenceClassification model from a BertForSequenceClassification model).\n"
     ]
    },
    {
     "name": "stderr",
     "output_type": "stream",
     "text": [
      "Some weights of RobertaForSequenceClassification were not initialized from the model checkpoint at bert-base-uncased and are newly initialized: ['encoder.layer.0.attention.output.LayerNorm.weight', 'encoder.layer.0.intermediate.dense.bias', 'encoder.layer.5.attention.output.LayerNorm.weight', 'encoder.layer.3.intermediate.dense.weight', 'encoder.layer.6.attention.output.LayerNorm.weight', 'encoder.layer.10.output.dense.bias', 'encoder.layer.10.output.LayerNorm.bias', 'encoder.layer.4.intermediate.dense.weight', 'encoder.layer.10.attention.self.key.bias', 'encoder.layer.0.attention.self.key.weight', 'encoder.layer.11.attention.output.LayerNorm.bias', 'encoder.layer.3.output.dense.weight', 'encoder.layer.11.intermediate.dense.weight', 'encoder.layer.3.attention.self.key.bias', 'encoder.layer.4.attention.output.LayerNorm.bias', 'encoder.layer.0.output.LayerNorm.bias', 'encoder.layer.4.output.LayerNorm.weight', 'encoder.layer.6.intermediate.dense.weight', 'encoder.layer.5.output.LayerNorm.bias', 'encoder.layer.3.attention.self.value.weight', 'encoder.layer.3.attention.self.key.weight', 'encoder.layer.1.attention.output.LayerNorm.weight', 'encoder.layer.11.attention.self.key.weight', 'encoder.layer.9.attention.self.value.bias', 'encoder.layer.8.output.dense.weight', 'encoder.layer.9.attention.output.dense.weight', 'encoder.layer.4.attention.output.LayerNorm.weight', 'encoder.layer.7.attention.self.key.weight', 'encoder.layer.11.attention.output.dense.bias', 'encoder.layer.2.attention.self.query.weight', 'encoder.layer.2.attention.output.LayerNorm.weight', 'encoder.layer.11.intermediate.dense.bias', 'encoder.layer.7.intermediate.dense.bias', 'encoder.layer.9.output.LayerNorm.weight', 'encoder.layer.2.output.LayerNorm.weight', 'classifier.out_proj.weight', 'encoder.layer.1.attention.output.dense.bias', 'encoder.layer.6.output.dense.bias', 'encoder.layer.5.attention.self.value.bias', 'encoder.layer.4.attention.output.dense.bias', 'encoder.layer.2.output.LayerNorm.bias', 'encoder.layer.9.output.dense.weight', 'encoder.layer.5.attention.self.query.bias', 'encoder.layer.6.output.LayerNorm.bias', 'encoder.layer.0.attention.self.value.weight', 'encoder.layer.0.attention.output.dense.bias', 'encoder.layer.0.attention.self.key.bias', 'encoder.layer.1.output.dense.bias', 'encoder.layer.3.attention.self.query.weight', 'encoder.layer.4.output.LayerNorm.bias', 'classifier.out_proj.bias', 'encoder.layer.7.output.LayerNorm.bias', 'encoder.layer.4.attention.self.query.weight', 'encoder.layer.11.output.LayerNorm.bias', 'encoder.layer.3.output.LayerNorm.bias', 'embeddings.LayerNorm.bias', 'encoder.layer.10.intermediate.dense.bias', 'encoder.layer.8.attention.self.query.bias', 'encoder.layer.2.output.dense.weight', 'encoder.layer.1.intermediate.dense.bias', 'encoder.layer.11.attention.self.value.bias', 'encoder.layer.7.attention.output.LayerNorm.bias', 'encoder.layer.7.intermediate.dense.weight', 'encoder.layer.8.intermediate.dense.weight', 'encoder.layer.9.intermediate.dense.bias', 'encoder.layer.11.output.LayerNorm.weight', 'encoder.layer.2.attention.self.value.bias', 'encoder.layer.2.attention.self.query.bias', 'encoder.layer.9.attention.self.key.weight', 'encoder.layer.4.attention.output.dense.weight', 'encoder.layer.10.intermediate.dense.weight', 'encoder.layer.11.output.dense.bias', 'encoder.layer.5.attention.output.LayerNorm.bias', 'encoder.layer.1.attention.self.value.weight', 'encoder.layer.11.attention.self.value.weight', 'encoder.layer.6.attention.self.value.weight', 'encoder.layer.4.output.dense.bias', 'encoder.layer.5.output.dense.weight', 'encoder.layer.0.intermediate.dense.weight', 'encoder.layer.8.attention.output.LayerNorm.weight', 'encoder.layer.2.attention.self.value.weight', 'encoder.layer.9.output.LayerNorm.bias', 'encoder.layer.9.attention.self.query.weight', 'encoder.layer.8.attention.self.key.bias', 'encoder.layer.7.attention.self.value.weight', 'encoder.layer.0.attention.output.dense.weight', 'encoder.layer.8.attention.self.value.bias', 'encoder.layer.10.attention.self.key.weight', 'encoder.layer.11.attention.self.key.bias', 'encoder.layer.4.intermediate.dense.bias', 'encoder.layer.8.attention.self.value.weight', 'encoder.layer.2.intermediate.dense.weight', 'encoder.layer.9.attention.output.dense.bias', 'encoder.layer.6.attention.output.dense.weight', 'encoder.layer.10.attention.self.value.bias', 'classifier.dense.weight', 'encoder.layer.8.intermediate.dense.bias', 'classifier.dense.bias', 'encoder.layer.6.attention.self.query.weight', 'encoder.layer.0.output.dense.weight', 'encoder.layer.1.attention.self.key.bias', 'encoder.layer.11.attention.self.query.weight', 'encoder.layer.7.attention.output.dense.bias', 'encoder.layer.1.attention.self.key.weight', 'encoder.layer.3.output.dense.bias', 'encoder.layer.6.output.LayerNorm.weight', 'encoder.layer.7.attention.output.dense.weight', 'encoder.layer.10.output.LayerNorm.weight', 'encoder.layer.1.attention.self.value.bias', 'encoder.layer.8.output.LayerNorm.weight', 'encoder.layer.1.attention.output.dense.weight', 'encoder.layer.3.attention.self.query.bias', 'encoder.layer.10.attention.output.dense.weight', 'encoder.layer.7.attention.self.query.weight', 'encoder.layer.6.attention.self.key.weight', 'encoder.layer.4.output.dense.weight', 'encoder.layer.8.attention.self.key.weight', 'encoder.layer.0.attention.self.query.weight', 'encoder.layer.7.output.dense.weight', 'encoder.layer.0.output.dense.bias', 'encoder.layer.6.attention.self.value.bias', 'encoder.layer.6.output.dense.weight', 'encoder.layer.1.attention.self.query.weight', 'encoder.layer.1.intermediate.dense.weight', 'encoder.layer.8.attention.output.dense.weight', 'encoder.layer.5.attention.output.dense.weight', 'encoder.layer.5.attention.self.key.weight', 'encoder.layer.7.attention.self.key.bias', 'encoder.layer.10.attention.output.LayerNorm.weight', 'encoder.layer.10.attention.self.query.bias', 'encoder.layer.6.attention.output.dense.bias', 'embeddings.LayerNorm.weight', 'encoder.layer.3.output.LayerNorm.weight', 'encoder.layer.5.attention.output.dense.bias', 'encoder.layer.0.attention.self.value.bias', 'encoder.layer.11.output.dense.weight', 'encoder.layer.9.intermediate.dense.weight', 'encoder.layer.3.attention.self.value.bias', 'encoder.layer.6.attention.self.query.bias', 'encoder.layer.11.attention.self.query.bias', 'encoder.layer.7.attention.self.query.bias', 'encoder.layer.7.output.dense.bias', 'encoder.layer.5.output.dense.bias', 'encoder.layer.5.attention.self.query.weight', 'encoder.layer.1.output.dense.weight', 'encoder.layer.1.attention.output.LayerNorm.bias', 'encoder.layer.9.output.dense.bias', 'encoder.layer.10.attention.output.LayerNorm.bias', 'embeddings.word_embeddings.weight', 'embeddings.position_embeddings.weight', 'encoder.layer.2.attention.self.key.weight', 'encoder.layer.0.attention.self.query.bias', 'encoder.layer.4.attention.self.value.weight', 'encoder.layer.2.attention.output.dense.weight', 'encoder.layer.3.attention.output.LayerNorm.weight', 'encoder.layer.2.output.dense.bias', 'encoder.layer.1.attention.self.query.bias', 'encoder.layer.4.attention.self.value.bias', 'encoder.layer.0.output.LayerNorm.weight', 'encoder.layer.5.attention.self.value.weight', 'encoder.layer.7.attention.self.value.bias', 'encoder.layer.10.output.dense.weight', 'encoder.layer.2.attention.output.dense.bias', 'encoder.layer.9.attention.output.LayerNorm.bias', 'encoder.layer.7.output.LayerNorm.weight', 'encoder.layer.7.attention.output.LayerNorm.weight', 'encoder.layer.8.attention.output.LayerNorm.bias', 'encoder.layer.3.attention.output.dense.bias', 'encoder.layer.11.attention.output.dense.weight', 'encoder.layer.9.attention.output.LayerNorm.weight', 'encoder.layer.11.attention.output.LayerNorm.weight', 'encoder.layer.4.attention.self.query.bias', 'embeddings.token_type_embeddings.weight', 'encoder.layer.5.intermediate.dense.weight', 'encoder.layer.4.attention.self.key.weight', 'encoder.layer.1.output.LayerNorm.weight', 'encoder.layer.10.attention.output.dense.bias', 'encoder.layer.3.intermediate.dense.bias', 'encoder.layer.2.attention.output.LayerNorm.bias', 'encoder.layer.6.attention.output.LayerNorm.bias', 'encoder.layer.6.intermediate.dense.bias', 'encoder.layer.6.attention.self.key.bias', 'encoder.layer.2.intermediate.dense.bias', 'encoder.layer.10.attention.self.value.weight', 'encoder.layer.5.intermediate.dense.bias', 'encoder.layer.3.attention.output.dense.weight', 'encoder.layer.2.attention.self.key.bias', 'encoder.layer.5.attention.self.key.bias', 'encoder.layer.8.output.dense.bias', 'encoder.layer.9.attention.self.value.weight', 'encoder.layer.3.attention.output.LayerNorm.bias', 'encoder.layer.1.output.LayerNorm.bias', 'encoder.layer.8.attention.output.dense.bias', 'encoder.layer.5.output.LayerNorm.weight', 'encoder.layer.8.output.LayerNorm.bias', 'encoder.layer.9.attention.self.query.bias', 'encoder.layer.9.attention.self.key.bias', 'encoder.layer.8.attention.self.query.weight', 'encoder.layer.4.attention.self.key.bias', 'encoder.layer.0.attention.output.LayerNorm.bias', 'encoder.layer.10.attention.self.query.weight']\n",
      "You should probably TRAIN this model on a down-stream task to be able to use it for predictions and inference.\n"
     ]
    }
   ],
   "source": [
    "# Load BERT with AutoModelForSequenceClassification along with the number of expected labels:\n",
    "model_bert3 = RobertaForSequenceClassification.from_pretrained(\"bert-base-uncased\", num_labels=2)\n"
   ]
  },
  {
   "cell_type": "code",
   "execution_count": 19,
   "id": "b96bdcc0",
   "metadata": {},
   "outputs": [],
   "source": [
    "# Pass the training arguments to Trainer along with the model, dataset, tokenizer, and data collator.\n",
    "trainer3 = Trainer(\n",
    "    model=model_bert3,\n",
    "    args=training_args,\n",
    "    train_dataset=tokenized_sentiment[\"train\"],\n",
    "    eval_dataset=tokenized_sentiment[\"test\"],\n",
    "    tokenizer=tokenizer,\n",
    "    data_collator=data_collator,\n",
    ")"
   ]
  },
  {
   "cell_type": "code",
   "execution_count": 20,
   "id": "6c32eb95",
   "metadata": {},
   "outputs": [
    {
     "data": {
      "text/html": [
       "\n",
       "    <div>\n",
       "      \n",
       "      <progress value='1600' max='1600' style='width:300px; height:20px; vertical-align: middle;'></progress>\n",
       "      [1600/1600 06:48, Epoch 5/5]\n",
       "    </div>\n",
       "    <table border=\"1\" class=\"dataframe\">\n",
       "  <thead>\n",
       "    <tr style=\"text-align: left;\">\n",
       "      <th>Step</th>\n",
       "      <th>Training Loss</th>\n",
       "    </tr>\n",
       "  </thead>\n",
       "  <tbody>\n",
       "    <tr>\n",
       "      <td>500</td>\n",
       "      <td>0.712600</td>\n",
       "    </tr>\n",
       "    <tr>\n",
       "      <td>1000</td>\n",
       "      <td>0.686900</td>\n",
       "    </tr>\n",
       "    <tr>\n",
       "      <td>1500</td>\n",
       "      <td>0.611600</td>\n",
       "    </tr>\n",
       "  </tbody>\n",
       "</table><p>"
      ],
      "text/plain": [
       "<IPython.core.display.HTML object>"
      ]
     },
     "metadata": {},
     "output_type": "display_data"
    },
    {
     "data": {
      "text/plain": [
       "TrainOutput(global_step=1600, training_loss=0.6639623999595642, metrics={'train_runtime': 410.2222, 'train_samples_per_second': 3.9, 'total_flos': 30448752467136.0, 'epoch': 5.0})"
      ]
     },
     "execution_count": 20,
     "metadata": {},
     "output_type": "execute_result"
    }
   ],
   "source": [
    "trainer3.train()"
   ]
  },
  {
   "cell_type": "code",
   "execution_count": 21,
   "id": "b59f3aa8",
   "metadata": {},
   "outputs": [
    {
     "data": {
      "text/html": [
       "\n",
       "    <div>\n",
       "      \n",
       "      <progress value='80' max='80' style='width:300px; height:20px; vertical-align: middle;'></progress>\n",
       "      [80/80 00:05]\n",
       "    </div>\n",
       "    "
      ],
      "text/plain": [
       "<IPython.core.display.HTML object>"
      ]
     },
     "metadata": {},
     "output_type": "display_data"
    },
    {
     "data": {
      "text/plain": [
       "array([0, 0, 1, 1, 1, 0, 1, 1, 0, 1, 1, 1, 0, 0, 1, 1, 1, 0, 1, 0, 1, 1,\n",
       "       1, 0, 1, 0, 0, 1, 1, 1, 0, 0, 1, 0, 0, 1, 1, 0, 0, 1, 0, 0, 0, 1,\n",
       "       0, 0, 1, 1, 0, 0, 1, 1, 1, 1, 1, 0, 0, 0, 0, 1, 0, 1, 1, 0, 0, 0,\n",
       "       1, 1, 0, 1, 1, 1, 1, 1, 1, 1, 0, 0, 1, 0, 0, 1, 1, 0, 0, 0, 1, 1,\n",
       "       1, 0, 0, 0, 1, 0, 1, 1, 1, 1, 1, 0, 0, 1, 0, 1, 0, 1, 1, 1, 0, 1,\n",
       "       1, 1, 0, 0, 1, 1, 1, 1, 1, 0, 0, 1, 1, 1, 0, 0, 1, 0, 1, 0, 1, 1,\n",
       "       0, 1, 1, 0, 1, 0, 0, 0, 1, 1, 1, 0, 1, 0, 1, 1, 1, 1, 1, 0, 0, 1,\n",
       "       1, 1, 1, 1, 0, 1, 0, 1, 1, 0, 1, 0, 0, 1, 1, 1, 0, 0, 0, 1, 0, 1,\n",
       "       1, 1, 1, 1, 1, 1, 0, 0, 1, 1, 0, 0, 0, 0, 0, 1, 0, 0, 0, 1, 1, 1,\n",
       "       0, 1, 0, 1, 1, 0, 1, 0, 1, 0, 1, 0, 0, 0, 0, 0, 1, 1, 1, 1, 1, 0,\n",
       "       0, 0, 1, 0, 1, 1, 1, 0, 1, 0, 1, 0, 0, 1, 0, 0, 0, 1, 1, 0, 1, 1,\n",
       "       1, 1, 0, 1, 0, 0, 0, 1, 1, 1, 0, 0, 0, 0, 1, 0, 1, 1, 0, 1, 0, 1,\n",
       "       1, 1, 0, 1, 0, 1, 0, 1, 0, 1, 1, 0, 1, 1, 0, 0, 0, 0, 1, 0, 0, 1,\n",
       "       1, 0, 1, 1, 0, 1, 1, 1, 0, 1, 0, 1, 1, 0, 1, 0, 0, 1, 0, 1, 1, 1,\n",
       "       0, 0, 1, 0, 1, 1, 1, 0, 0, 0, 1, 0, 1, 0, 0, 0, 1, 1, 0, 1, 1, 1,\n",
       "       1, 1, 1, 0, 1, 0, 1, 0, 1, 0, 0, 1, 1, 0, 1, 0, 1, 0, 0, 0, 0, 1,\n",
       "       0, 0, 0, 0, 0, 1, 0, 0, 0, 0, 1, 1, 0, 0, 1, 1, 0, 1, 1, 0, 0, 0,\n",
       "       1, 1, 1, 1, 0, 0, 0, 1, 1, 1, 1, 0, 0, 1, 1, 0, 0, 1, 1, 0, 0, 0,\n",
       "       1, 1, 1, 0, 1, 0, 0, 0, 1, 1, 1, 1, 0, 1, 1, 1, 1, 0, 1, 1, 1, 1,\n",
       "       1, 1, 0, 1, 1, 0, 1, 1, 1, 1, 0, 0, 1, 1, 1, 1, 1, 0, 1, 0, 1, 1,\n",
       "       0, 0, 1, 0, 1, 1, 0, 1, 0, 0, 0, 0, 1, 1, 0, 0, 1, 0, 0, 0, 1, 0,\n",
       "       0, 1, 1, 0, 1, 0, 1, 0, 1, 0, 1, 0, 1, 1, 1, 1, 1, 1, 1, 1, 1, 1,\n",
       "       1, 0, 0, 0, 0, 0, 1, 1, 1, 0, 0, 0, 1, 1, 0, 1, 0, 0, 1, 1, 0, 1,\n",
       "       1, 1, 0, 0, 0, 1, 0, 0, 1, 0, 1, 0, 0, 1, 1, 0, 0, 1, 0, 0, 1, 0,\n",
       "       0, 1, 0, 0, 0, 1, 1, 0, 0, 1, 0, 1, 0, 0, 1, 1, 1, 1, 1, 1, 0, 0,\n",
       "       1, 1, 1, 0, 0, 1, 0, 0, 1, 0, 1, 1, 1, 1, 1, 0, 1, 1, 0, 1, 0, 1,\n",
       "       1, 0, 1, 1, 0, 1, 0, 1, 0, 0, 0, 1, 0, 1, 0, 1, 0, 0, 0, 1, 0, 0,\n",
       "       0, 1, 0, 0, 0, 0, 0, 0, 1, 0, 1, 0, 0, 1, 1, 1, 1, 1, 1, 1, 1, 1,\n",
       "       1, 0, 1, 0, 1, 1, 0, 0, 0, 0, 0, 0, 1, 0, 0, 1, 0, 0, 1, 0, 1, 0,\n",
       "       0, 0], dtype=int64)"
      ]
     },
     "execution_count": 21,
     "metadata": {},
     "output_type": "execute_result"
    }
   ],
   "source": [
    "y_prob = trainer3.predict(tokenized_sentiment[\"test\"]) #test_text\n",
    "#y_prob[0]\n",
    "y_pred = np.argmax(y_prob.predictions, axis=-1)\n",
    "y_pred"
   ]
  },
  {
   "cell_type": "code",
   "execution_count": 26,
   "id": "b06edc35",
   "metadata": {},
   "outputs": [
    {
     "data": {
      "text/html": [
       "<div>\n",
       "<style scoped>\n",
       "    .dataframe tbody tr th:only-of-type {\n",
       "        vertical-align: middle;\n",
       "    }\n",
       "\n",
       "    .dataframe tbody tr th {\n",
       "        vertical-align: top;\n",
       "    }\n",
       "\n",
       "    .dataframe thead th {\n",
       "        text-align: right;\n",
       "    }\n",
       "</style>\n",
       "<table border=\"1\" class=\"dataframe\">\n",
       "  <thead>\n",
       "    <tr style=\"text-align: right;\">\n",
       "      <th></th>\n",
       "      <th>Model Type</th>\n",
       "      <th>Model Name</th>\n",
       "      <th>seuil</th>\n",
       "      <th>F1-Score</th>\n",
       "      <th>FBeta-Score</th>\n",
       "      <th>Recall_score</th>\n",
       "      <th>Precision_score</th>\n",
       "      <th>Accuracy_score</th>\n",
       "      <th>Roc_AUC_score</th>\n",
       "    </tr>\n",
       "  </thead>\n",
       "  <tbody>\n",
       "    <tr>\n",
       "      <th>0</th>\n",
       "      <td>RobertaForSequenceClassification(\\n  (roberta)...</td>\n",
       "      <td>3. ROBERTA - bert-base-uncased</td>\n",
       "      <td>0.5</td>\n",
       "      <td>0.660767</td>\n",
       "      <td>0.658436</td>\n",
       "      <td>0.664688</td>\n",
       "      <td>0.656891</td>\n",
       "      <td>0.640625</td>\n",
       "      <td>0.639275</td>\n",
       "    </tr>\n",
       "  </tbody>\n",
       "</table>\n",
       "</div>"
      ],
      "text/plain": [
       "                                          Model Type  \\\n",
       "0  RobertaForSequenceClassification(\\n  (roberta)...   \n",
       "\n",
       "                       Model Name seuil  F1-Score FBeta-Score Recall_score  \\\n",
       "0  3. ROBERTA - bert-base-uncased   0.5  0.660767    0.658436     0.664688   \n",
       "\n",
       "  Precision_score Accuracy_score Roc_AUC_score  \n",
       "0        0.656891       0.640625      0.639275  "
      ]
     },
     "execution_count": 26,
     "metadata": {},
     "output_type": "execute_result"
    }
   ],
   "source": [
    "model_name=\"3. ROBERTA - bert-base-uncased\"\n",
    "model_folder_path = './bert_models'\n",
    "model_file_path = os.path.join(model_folder_path, model_name)\n",
    "seuil=0.5\n",
    "binary_transform = True\n",
    "\n",
    "false_positive_rate, true_positive_rate, thresholds = roc_curve(y_prob[1], y_pred)\n",
    "Roc_AUC_score = auc(false_positive_rate, true_positive_rate)\n",
    "F1_score = f1_score(y_prob[1], y_pred)\n",
    "FBeta_score = fbeta_score(y_prob[1], y_pred, average='binary', beta=0.5, pos_label=1) #make_scorer(fbeta_score, beta = 2, pos_label=0 ,average = 'binary')\n",
    "Recall_score = recall_score(y_prob[1], y_pred)\n",
    "Precision_score = precision_score(y_prob[1], y_pred)\n",
    "Accuracy_score = accuracy_score(y_prob[1], y_pred)\n",
    "\n",
    "score_results = pd.Series([model_bert3, model_name, seuil, F1_score, FBeta_score, Recall_score, Precision_score, Accuracy_score, Roc_AUC_score])\n",
    "score_results_stored = pd.DataFrame([score_results.values],  columns = score_column_names)\n",
    "store_score = pd.concat([store_score, score_results_stored], axis=0, ignore_index=True)\n",
    "store_score"
   ]
  },
  {
   "cell_type": "code",
   "execution_count": 27,
   "id": "9f2cb64e",
   "metadata": {},
   "outputs": [
    {
     "data": {
      "image/png": "[encoded data removed]",
      "text/plain": [
       "<Figure size 360x360 with 1 Axes>"
      ]
     },
     "metadata": {},
     "output_type": "display_data"
    }
   ],
   "source": [
    "#Plot functions\n",
    "matrix_pred_model(model_bert3, model_name, y_prob[1], y_pred) \n",
    "#plot_roc_auc_curve(model_name, false_positive_rate, true_positive_rate)\n",
    "    "
   ]
  },
  {
   "cell_type": "markdown",
   "id": "0a6d9a34",
   "metadata": {},
   "source": [
    "#### Train the model 4 :Camembert ForSequenceClassification - \"distilbert-base-uncased\""
   ]
  },
  {
   "cell_type": "code",
   "execution_count": 15,
   "id": "6750547d",
   "metadata": {},
   "outputs": [
    {
     "name": "stderr",
     "output_type": "stream",
     "text": [
      "You are using a model of type bert to instantiate a model of type camembert. This is not supported for all configurations of models and can yield errors.\n",
      "Some weights of the model checkpoint at bert-base-uncased were not used when initializing CamembertForSequenceClassification: ['bert.encoder.layer.10.attention.self.value.weight', 'bert.encoder.layer.2.output.LayerNorm.bias', 'bert.encoder.layer.0.attention.self.key.bias', 'bert.encoder.layer.3.attention.self.query.bias', 'bert.encoder.layer.7.intermediate.dense.bias', 'bert.encoder.layer.0.intermediate.dense.bias', 'bert.encoder.layer.4.intermediate.dense.weight', 'bert.encoder.layer.11.output.LayerNorm.bias', 'bert.encoder.layer.7.attention.output.dense.bias', 'bert.encoder.layer.7.attention.self.key.weight', 'bert.encoder.layer.4.attention.self.key.bias', 'bert.encoder.layer.4.attention.output.LayerNorm.bias', 'bert.encoder.layer.9.attention.self.key.bias', 'bert.encoder.layer.6.attention.self.key.weight', 'bert.encoder.layer.5.attention.self.value.weight', 'bert.encoder.layer.6.output.dense.weight', 'bert.pooler.dense.bias', 'bert.encoder.layer.8.intermediate.dense.bias', 'bert.encoder.layer.7.attention.self.query.bias', 'bert.encoder.layer.6.output.LayerNorm.bias', 'bert.encoder.layer.11.output.LayerNorm.weight', 'bert.encoder.layer.1.attention.output.LayerNorm.weight', 'bert.encoder.layer.7.intermediate.dense.weight', 'bert.encoder.layer.8.attention.output.LayerNorm.weight', 'bert.encoder.layer.10.attention.self.query.bias', 'bert.encoder.layer.5.attention.self.query.bias', 'bert.encoder.layer.11.attention.self.query.weight', 'bert.encoder.layer.8.attention.output.LayerNorm.bias', 'bert.encoder.layer.9.output.LayerNorm.bias', 'bert.encoder.layer.1.attention.self.value.weight', 'bert.encoder.layer.10.attention.output.LayerNorm.weight', 'bert.encoder.layer.8.attention.self.key.bias', 'bert.encoder.layer.3.attention.output.dense.weight', 'bert.encoder.layer.4.attention.self.value.bias', 'bert.encoder.layer.2.attention.self.value.bias', 'bert.encoder.layer.1.output.dense.bias', 'bert.encoder.layer.5.attention.output.dense.weight', 'bert.encoder.layer.11.attention.self.value.bias', 'bert.encoder.layer.0.output.LayerNorm.bias', 'bert.encoder.layer.1.attention.self.value.bias', 'bert.encoder.layer.5.intermediate.dense.weight', 'bert.encoder.layer.3.intermediate.dense.weight', 'bert.pooler.dense.weight', 'bert.encoder.layer.9.attention.output.dense.bias', 'bert.encoder.layer.6.output.dense.bias', 'bert.encoder.layer.10.output.LayerNorm.bias', 'bert.encoder.layer.1.intermediate.dense.bias', 'bert.encoder.layer.3.attention.output.dense.bias', 'bert.encoder.layer.5.output.LayerNorm.bias', 'bert.encoder.layer.6.attention.self.value.bias', 'bert.encoder.layer.2.attention.self.key.weight', 'bert.encoder.layer.4.attention.self.query.bias', 'bert.encoder.layer.1.attention.self.key.bias', 'bert.encoder.layer.7.attention.self.query.weight', 'bert.encoder.layer.0.output.dense.weight', 'cls.seq_relationship.bias', 'bert.encoder.layer.5.attention.self.value.bias', 'bert.encoder.layer.0.attention.output.LayerNorm.bias', 'bert.encoder.layer.4.output.dense.weight', 'bert.encoder.layer.2.attention.output.LayerNorm.bias', 'bert.encoder.layer.2.output.dense.weight', 'bert.encoder.layer.9.output.dense.weight', 'bert.encoder.layer.11.attention.output.LayerNorm.weight', 'bert.encoder.layer.10.attention.self.key.weight', 'bert.encoder.layer.3.output.LayerNorm.bias', 'bert.embeddings.position_embeddings.weight', 'cls.seq_relationship.weight', 'bert.encoder.layer.11.output.dense.bias', 'bert.encoder.layer.5.attention.self.key.bias', 'bert.encoder.layer.6.attention.output.LayerNorm.weight', 'bert.encoder.layer.4.attention.output.LayerNorm.weight', 'bert.encoder.layer.0.attention.output.dense.weight', 'bert.encoder.layer.1.intermediate.dense.weight', 'bert.encoder.layer.5.intermediate.dense.bias', 'cls.predictions.bias', 'bert.encoder.layer.3.attention.self.key.bias', 'bert.encoder.layer.1.attention.output.dense.weight', 'bert.encoder.layer.2.output.dense.bias', 'bert.encoder.layer.3.attention.output.LayerNorm.weight', 'bert.encoder.layer.4.attention.self.query.weight', 'bert.encoder.layer.3.output.LayerNorm.weight', 'bert.encoder.layer.10.output.dense.bias', 'bert.embeddings.word_embeddings.weight', 'bert.encoder.layer.4.attention.output.dense.weight', 'bert.encoder.layer.5.attention.output.dense.bias', 'bert.encoder.layer.1.attention.self.query.bias', 'bert.encoder.layer.10.attention.self.value.bias', 'bert.encoder.layer.3.attention.self.value.weight', 'bert.encoder.layer.10.intermediate.dense.bias', 'bert.encoder.layer.7.output.LayerNorm.bias', 'bert.encoder.layer.7.output.dense.bias', 'bert.encoder.layer.8.attention.self.query.weight', 'bert.encoder.layer.3.intermediate.dense.bias', 'bert.encoder.layer.3.output.dense.bias', 'bert.encoder.layer.8.attention.self.query.bias', 'bert.encoder.layer.1.attention.output.dense.bias', 'bert.encoder.layer.6.attention.self.key.bias', 'bert.encoder.layer.0.attention.output.dense.bias', 'bert.encoder.layer.10.attention.output.dense.weight', 'cls.predictions.transform.dense.weight', 'bert.encoder.layer.2.output.LayerNorm.weight', 'bert.encoder.layer.2.attention.self.query.bias', 'bert.encoder.layer.9.intermediate.dense.bias', 'bert.encoder.layer.2.intermediate.dense.bias', 'bert.embeddings.LayerNorm.weight', 'bert.encoder.layer.10.intermediate.dense.weight', 'bert.encoder.layer.9.attention.self.key.weight', 'bert.encoder.layer.4.attention.self.key.weight', 'bert.encoder.layer.9.intermediate.dense.weight', 'bert.embeddings.LayerNorm.bias', 'bert.encoder.layer.8.attention.output.dense.weight', 'bert.encoder.layer.0.attention.self.query.bias', 'bert.encoder.layer.3.attention.self.key.weight', 'bert.encoder.layer.5.output.dense.weight', 'bert.encoder.layer.6.attention.output.dense.bias', 'bert.encoder.layer.1.attention.self.key.weight', 'bert.encoder.layer.1.output.LayerNorm.bias', 'bert.encoder.layer.1.attention.output.LayerNorm.bias', 'bert.encoder.layer.0.attention.self.query.weight', 'bert.encoder.layer.6.output.LayerNorm.weight', 'bert.encoder.layer.8.attention.output.dense.bias', 'bert.encoder.layer.6.attention.self.query.weight', 'bert.encoder.layer.1.output.dense.weight', 'bert.encoder.layer.11.attention.self.key.weight', 'bert.encoder.layer.7.attention.self.value.bias', 'bert.encoder.layer.9.output.LayerNorm.weight', 'bert.encoder.layer.11.attention.output.dense.weight', 'bert.encoder.layer.4.output.LayerNorm.weight', 'bert.encoder.layer.3.attention.self.value.bias', 'bert.encoder.layer.2.attention.self.key.bias', 'bert.encoder.layer.2.attention.output.dense.bias', 'bert.encoder.layer.0.output.LayerNorm.weight', 'bert.encoder.layer.2.attention.output.dense.weight', 'bert.encoder.layer.7.attention.self.value.weight', 'bert.encoder.layer.7.attention.self.key.bias', 'bert.encoder.layer.9.attention.output.LayerNorm.bias', 'bert.encoder.layer.8.intermediate.dense.weight', 'bert.encoder.layer.10.attention.output.LayerNorm.bias', 'bert.encoder.layer.0.attention.output.LayerNorm.weight', 'bert.encoder.layer.0.attention.self.value.weight', 'cls.predictions.decoder.weight', 'bert.encoder.layer.6.attention.self.query.bias', 'bert.encoder.layer.5.attention.output.LayerNorm.weight', 'bert.encoder.layer.7.output.LayerNorm.weight', 'bert.encoder.layer.6.attention.self.value.weight', 'bert.encoder.layer.11.intermediate.dense.bias', 'bert.encoder.layer.0.intermediate.dense.weight', 'bert.encoder.layer.9.attention.output.LayerNorm.weight', 'bert.encoder.layer.10.output.LayerNorm.weight', 'bert.encoder.layer.3.attention.self.query.weight', 'bert.encoder.layer.8.attention.self.value.bias', 'bert.encoder.layer.1.attention.self.query.weight', 'bert.encoder.layer.5.attention.self.query.weight', 'bert.encoder.layer.6.intermediate.dense.weight', 'bert.encoder.layer.11.intermediate.dense.weight', 'bert.encoder.layer.9.attention.self.value.weight', 'bert.encoder.layer.5.attention.output.LayerNorm.bias', 'bert.encoder.layer.5.output.LayerNorm.weight', 'bert.encoder.layer.11.attention.output.LayerNorm.bias', 'bert.encoder.layer.11.attention.self.query.bias', 'cls.predictions.transform.LayerNorm.weight', 'bert.encoder.layer.2.attention.self.query.weight', 'bert.encoder.layer.9.attention.self.value.bias', 'bert.encoder.layer.9.attention.output.dense.weight', 'bert.encoder.layer.10.attention.output.dense.bias', 'bert.encoder.layer.7.attention.output.LayerNorm.bias', 'bert.encoder.layer.6.attention.output.LayerNorm.bias', 'bert.encoder.layer.9.attention.self.query.bias', 'bert.encoder.layer.6.intermediate.dense.bias', 'bert.encoder.layer.11.output.dense.weight', 'bert.encoder.layer.5.output.dense.bias', 'bert.encoder.layer.4.attention.output.dense.bias', 'bert.encoder.layer.3.output.dense.weight', 'bert.encoder.layer.10.attention.self.query.weight', 'bert.encoder.layer.4.output.dense.bias', 'bert.encoder.layer.10.output.dense.weight', 'bert.encoder.layer.10.attention.self.key.bias', 'bert.encoder.layer.9.output.dense.bias', 'bert.encoder.layer.11.attention.self.value.weight', 'bert.encoder.layer.8.output.dense.bias', 'bert.encoder.layer.11.attention.output.dense.bias', 'bert.encoder.layer.11.attention.self.key.bias', 'bert.encoder.layer.4.output.LayerNorm.bias', 'bert.encoder.layer.2.attention.self.value.weight', 'bert.encoder.layer.0.attention.self.key.weight', 'bert.embeddings.token_type_embeddings.weight', 'bert.encoder.layer.4.attention.self.value.weight', 'bert.encoder.layer.8.output.LayerNorm.weight', 'bert.encoder.layer.6.attention.output.dense.weight', 'bert.encoder.layer.2.attention.output.LayerNorm.weight', 'bert.encoder.layer.7.attention.output.dense.weight', 'bert.encoder.layer.7.output.dense.weight', 'bert.encoder.layer.0.attention.self.value.bias', 'bert.encoder.layer.7.attention.output.LayerNorm.weight', 'bert.encoder.layer.2.intermediate.dense.weight', 'bert.encoder.layer.5.attention.self.key.weight', 'bert.encoder.layer.1.output.LayerNorm.weight', 'cls.predictions.transform.dense.bias', 'bert.encoder.layer.3.attention.output.LayerNorm.bias', 'bert.encoder.layer.8.output.LayerNorm.bias', 'cls.predictions.transform.LayerNorm.bias', 'bert.encoder.layer.8.output.dense.weight', 'bert.encoder.layer.0.output.dense.bias', 'bert.encoder.layer.4.intermediate.dense.bias', 'bert.encoder.layer.8.attention.self.value.weight', 'bert.encoder.layer.8.attention.self.key.weight', 'bert.encoder.layer.9.attention.self.query.weight']\n",
      "- This IS expected if you are initializing CamembertForSequenceClassification from the checkpoint of a model trained on another task or with another architecture (e.g. initializing a BertForSequenceClassification model from a BertForPreTraining model).\n",
      "- This IS NOT expected if you are initializing CamembertForSequenceClassification from the checkpoint of a model that you expect to be exactly identical (initializing a BertForSequenceClassification model from a BertForSequenceClassification model).\n"
     ]
    },
    {
     "name": "stderr",
     "output_type": "stream",
     "text": [
      "Some weights of CamembertForSequenceClassification were not initialized from the model checkpoint at bert-base-uncased and are newly initialized: ['encoder.layer.5.attention.self.query.bias', 'encoder.layer.8.attention.output.dense.weight', 'encoder.layer.5.attention.self.query.weight', 'encoder.layer.10.attention.self.query.bias', 'encoder.layer.8.intermediate.dense.bias', 'encoder.layer.0.attention.self.value.bias', 'encoder.layer.8.output.LayerNorm.weight', 'encoder.layer.0.intermediate.dense.weight', 'classifier.dense.weight', 'encoder.layer.3.output.dense.weight', 'encoder.layer.1.attention.output.LayerNorm.bias', 'encoder.layer.3.attention.output.LayerNorm.bias', 'encoder.layer.1.output.dense.weight', 'encoder.layer.4.attention.self.value.bias', 'encoder.layer.7.attention.self.query.weight', 'encoder.layer.7.attention.output.LayerNorm.weight', 'encoder.layer.8.attention.self.query.weight', 'encoder.layer.10.output.dense.bias', 'encoder.layer.1.attention.self.key.bias', 'encoder.layer.5.output.dense.bias', 'encoder.layer.9.attention.self.key.bias', 'encoder.layer.10.attention.output.dense.bias', 'encoder.layer.2.output.LayerNorm.bias', 'encoder.layer.8.attention.output.LayerNorm.bias', 'encoder.layer.10.attention.self.query.weight', 'encoder.layer.2.intermediate.dense.bias', 'encoder.layer.5.attention.output.dense.weight', 'encoder.layer.11.output.LayerNorm.weight', 'encoder.layer.0.attention.output.LayerNorm.bias', 'encoder.layer.10.attention.self.key.bias', 'encoder.layer.11.attention.self.query.weight', 'encoder.layer.5.intermediate.dense.bias', 'encoder.layer.7.output.dense.bias', 'encoder.layer.3.attention.output.dense.bias', 'encoder.layer.11.attention.self.query.bias', 'encoder.layer.6.attention.self.value.weight', 'embeddings.token_type_embeddings.weight', 'encoder.layer.10.output.LayerNorm.weight', 'encoder.layer.3.attention.self.key.weight', 'encoder.layer.6.attention.self.query.bias', 'encoder.layer.7.attention.self.query.bias', 'encoder.layer.2.attention.self.query.bias', 'encoder.layer.4.output.dense.bias', 'encoder.layer.1.attention.self.key.weight', 'encoder.layer.0.attention.output.dense.weight', 'encoder.layer.11.intermediate.dense.bias', 'encoder.layer.6.output.dense.weight', 'encoder.layer.6.output.dense.bias', 'encoder.layer.11.attention.self.value.weight', 'encoder.layer.4.attention.self.key.bias', 'encoder.layer.9.intermediate.dense.bias', 'encoder.layer.1.attention.self.query.bias', 'encoder.layer.5.attention.output.dense.bias', 'embeddings.position_embeddings.weight', 'encoder.layer.2.attention.self.value.bias', 'encoder.layer.4.attention.output.dense.weight', 'encoder.layer.7.attention.output.dense.weight', 'encoder.layer.4.attention.self.value.weight', 'encoder.layer.10.attention.output.LayerNorm.weight', 'encoder.layer.5.output.LayerNorm.bias', 'encoder.layer.9.attention.output.LayerNorm.weight', 'encoder.layer.1.intermediate.dense.weight', 'encoder.layer.9.intermediate.dense.weight', 'encoder.layer.3.attention.self.query.weight', 'encoder.layer.8.attention.output.LayerNorm.weight', 'encoder.layer.3.attention.self.query.bias', 'encoder.layer.8.attention.self.key.bias', 'encoder.layer.0.attention.output.LayerNorm.weight', 'encoder.layer.6.attention.output.LayerNorm.weight', 'encoder.layer.2.attention.output.LayerNorm.weight', 'encoder.layer.3.intermediate.dense.weight', 'encoder.layer.4.attention.self.query.weight', 'encoder.layer.6.intermediate.dense.weight', 'encoder.layer.4.intermediate.dense.bias', 'encoder.layer.6.attention.output.dense.weight', 'encoder.layer.10.attention.output.LayerNorm.bias', 'encoder.layer.2.attention.output.dense.weight', 'encoder.layer.3.output.dense.bias', 'encoder.layer.7.output.LayerNorm.weight', 'encoder.layer.6.attention.output.LayerNorm.bias', 'encoder.layer.8.attention.self.value.weight', 'embeddings.LayerNorm.weight', 'encoder.layer.10.intermediate.dense.weight', 'encoder.layer.11.attention.output.dense.weight', 'encoder.layer.1.attention.output.LayerNorm.weight', 'encoder.layer.1.intermediate.dense.bias', 'encoder.layer.2.output.dense.weight', 'encoder.layer.9.attention.self.query.weight', 'encoder.layer.6.output.LayerNorm.bias', 'encoder.layer.1.attention.self.query.weight', 'encoder.layer.3.attention.output.dense.weight', 'encoder.layer.4.output.dense.weight', 'encoder.layer.2.attention.self.value.weight', 'encoder.layer.0.output.dense.bias', 'encoder.layer.6.attention.self.key.weight', 'encoder.layer.9.attention.output.dense.bias', 'encoder.layer.10.output.LayerNorm.bias', 'classifier.out_proj.bias', 'encoder.layer.11.attention.output.dense.bias', 'encoder.layer.11.attention.self.key.bias', 'encoder.layer.6.output.LayerNorm.weight', 'encoder.layer.7.attention.self.key.weight', 'encoder.layer.7.attention.self.key.bias', 'encoder.layer.0.output.LayerNorm.weight', 'encoder.layer.1.attention.output.dense.bias', 'encoder.layer.11.output.dense.bias', 'encoder.layer.3.attention.self.key.bias', 'encoder.layer.7.attention.self.value.bias', 'encoder.layer.2.intermediate.dense.weight', 'encoder.layer.5.attention.output.LayerNorm.bias', 'encoder.layer.3.attention.self.value.weight', 'encoder.layer.9.attention.self.value.bias', 'encoder.layer.7.attention.output.LayerNorm.bias', 'encoder.layer.2.attention.self.key.weight', 'encoder.layer.7.output.LayerNorm.bias', 'encoder.layer.2.attention.self.key.bias', 'encoder.layer.5.attention.self.value.bias', 'encoder.layer.7.attention.output.dense.bias', 'encoder.layer.10.attention.output.dense.weight', 'encoder.layer.9.attention.output.LayerNorm.bias', 'encoder.layer.2.attention.self.query.weight', 'encoder.layer.1.output.LayerNorm.weight', 'encoder.layer.3.attention.self.value.bias', 'encoder.layer.3.output.LayerNorm.weight', 'encoder.layer.2.attention.output.dense.bias', 'encoder.layer.4.attention.self.query.bias', 'encoder.layer.0.attention.output.dense.bias', 'classifier.out_proj.weight', 'encoder.layer.5.intermediate.dense.weight', 'encoder.layer.8.output.dense.bias', 'encoder.layer.11.attention.output.LayerNorm.bias', 'encoder.layer.1.attention.self.value.bias', 'encoder.layer.7.output.dense.weight', 'encoder.layer.3.attention.output.LayerNorm.weight', 'encoder.layer.0.attention.self.key.weight', 'encoder.layer.9.attention.self.query.bias', 'encoder.layer.0.output.dense.weight', 'encoder.layer.10.intermediate.dense.bias', 'encoder.layer.0.attention.self.query.bias', 'encoder.layer.2.output.dense.bias', 'encoder.layer.8.attention.self.key.weight', 'encoder.layer.4.attention.output.dense.bias', 'encoder.layer.0.attention.self.key.bias', 'encoder.layer.7.intermediate.dense.bias', 'encoder.layer.10.attention.self.value.bias', 'encoder.layer.6.attention.self.value.bias', 'encoder.layer.10.attention.self.key.weight', 'encoder.layer.9.output.dense.weight', 'encoder.layer.8.attention.output.dense.bias', 'encoder.layer.8.attention.self.query.bias', 'encoder.layer.9.output.LayerNorm.bias', 'encoder.layer.8.attention.self.value.bias', 'encoder.layer.4.attention.output.LayerNorm.weight', 'encoder.layer.9.attention.output.dense.weight', 'encoder.layer.3.output.LayerNorm.bias', 'encoder.layer.7.attention.self.value.weight', 'encoder.layer.9.attention.self.key.weight', 'encoder.layer.2.output.LayerNorm.weight', 'encoder.layer.9.attention.self.value.weight', 'encoder.layer.6.intermediate.dense.bias', 'encoder.layer.8.output.dense.weight', 'encoder.layer.3.intermediate.dense.bias', 'encoder.layer.11.attention.self.value.bias', 'encoder.layer.6.attention.output.dense.bias', 'encoder.layer.10.attention.self.value.weight', 'embeddings.LayerNorm.bias', 'encoder.layer.4.attention.self.key.weight', 'encoder.layer.7.intermediate.dense.weight', 'encoder.layer.5.attention.self.key.bias', 'encoder.layer.0.intermediate.dense.bias', 'encoder.layer.1.attention.self.value.weight', 'encoder.layer.5.output.LayerNorm.weight', 'embeddings.word_embeddings.weight', 'classifier.dense.bias', 'encoder.layer.1.output.LayerNorm.bias', 'encoder.layer.2.attention.output.LayerNorm.bias', 'encoder.layer.5.attention.self.key.weight', 'encoder.layer.8.intermediate.dense.weight', 'encoder.layer.4.intermediate.dense.weight', 'encoder.layer.6.attention.self.query.weight', 'encoder.layer.4.output.LayerNorm.weight', 'encoder.layer.9.output.LayerNorm.weight', 'encoder.layer.8.output.LayerNorm.bias', 'encoder.layer.11.output.dense.weight', 'encoder.layer.4.attention.output.LayerNorm.bias', 'encoder.layer.1.output.dense.bias', 'encoder.layer.5.attention.output.LayerNorm.weight', 'encoder.layer.4.output.LayerNorm.bias', 'encoder.layer.6.attention.self.key.bias', 'encoder.layer.0.output.LayerNorm.bias', 'encoder.layer.11.intermediate.dense.weight', 'encoder.layer.0.attention.self.value.weight', 'encoder.layer.9.output.dense.bias', 'encoder.layer.5.output.dense.weight', 'encoder.layer.11.attention.output.LayerNorm.weight', 'encoder.layer.0.attention.self.query.weight', 'encoder.layer.1.attention.output.dense.weight', 'encoder.layer.10.output.dense.weight', 'encoder.layer.11.output.LayerNorm.bias', 'encoder.layer.5.attention.self.value.weight', 'encoder.layer.11.attention.self.key.weight']\n",
      "You should probably TRAIN this model on a down-stream task to be able to use it for predictions and inference.\n"
     ]
    }
   ],
   "source": [
    "# Load BERT with AutoModelForSequenceClassification along with the number of expected labels:\n",
    "model_bert4 = CamembertForSequenceClassification.from_pretrained(\"bert-base-uncased\", num_labels=2)\n"
   ]
  },
  {
   "cell_type": "code",
   "execution_count": 16,
   "id": "75ca49f2",
   "metadata": {},
   "outputs": [],
   "source": [
    "# Pass the training arguments to Trainer along with the model, dataset, tokenizer, and data collator.\n",
    "trainer4 = Trainer(\n",
    "    model=model_bert4,\n",
    "    args=training_args,\n",
    "    train_dataset=tokenized_sentiment[\"train\"],\n",
    "    eval_dataset=tokenized_sentiment[\"test\"],\n",
    "    tokenizer=tokenizer,\n",
    "    data_collator=data_collator,\n",
    ")"
   ]
  },
  {
   "cell_type": "code",
   "execution_count": 17,
   "id": "b98e583e",
   "metadata": {},
   "outputs": [
    {
     "data": {
      "text/html": [
       "\n",
       "    <div>\n",
       "      \n",
       "      <progress value='1600' max='1600' style='width:300px; height:20px; vertical-align: middle;'></progress>\n",
       "      [1600/1600 06:47, Epoch 5/5]\n",
       "    </div>\n",
       "    <table border=\"1\" class=\"dataframe\">\n",
       "  <thead>\n",
       "    <tr style=\"text-align: left;\">\n",
       "      <th>Step</th>\n",
       "      <th>Training Loss</th>\n",
       "    </tr>\n",
       "  </thead>\n",
       "  <tbody>\n",
       "    <tr>\n",
       "      <td>500</td>\n",
       "      <td>0.718800</td>\n",
       "    </tr>\n",
       "    <tr>\n",
       "      <td>1000</td>\n",
       "      <td>0.680200</td>\n",
       "    </tr>\n",
       "    <tr>\n",
       "      <td>1500</td>\n",
       "      <td>0.539900</td>\n",
       "    </tr>\n",
       "  </tbody>\n",
       "</table><p>"
      ],
      "text/plain": [
       "<IPython.core.display.HTML object>"
      ]
     },
     "metadata": {},
     "output_type": "display_data"
    },
    {
     "data": {
      "text/plain": [
       "TrainOutput(global_step=1600, training_loss=0.6363067865371704, metrics={'train_runtime': 409.1323, 'train_samples_per_second': 3.911, 'total_flos': 29938995996768.0, 'epoch': 5.0})"
      ]
     },
     "execution_count": 17,
     "metadata": {},
     "output_type": "execute_result"
    }
   ],
   "source": [
    "trainer4.train()"
   ]
  },
  {
   "cell_type": "code",
   "execution_count": 18,
   "id": "dab89d21",
   "metadata": {},
   "outputs": [
    {
     "data": {
      "text/html": [
       "\n",
       "    <div>\n",
       "      \n",
       "      <progress value='80' max='80' style='width:300px; height:20px; vertical-align: middle;'></progress>\n",
       "      [80/80 00:05]\n",
       "    </div>\n",
       "    "
      ],
      "text/plain": [
       "<IPython.core.display.HTML object>"
      ]
     },
     "metadata": {},
     "output_type": "display_data"
    },
    {
     "data": {
      "text/plain": [
       "array([0, 1, 1, 0, 0, 1, 1, 0, 1, 1, 0, 1, 1, 0, 1, 1, 1, 1, 0, 1, 1, 1,\n",
       "       0, 0, 0, 1, 1, 1, 1, 0, 0, 1, 1, 1, 0, 0, 1, 1, 1, 1, 1, 0, 0, 0,\n",
       "       0, 1, 1, 1, 0, 0, 1, 0, 1, 1, 0, 0, 0, 0, 0, 0, 1, 1, 1, 1, 0, 1,\n",
       "       1, 1, 1, 0, 1, 0, 0, 1, 1, 1, 0, 0, 1, 0, 1, 1, 1, 1, 1, 1, 0, 0,\n",
       "       0, 1, 0, 0, 0, 1, 1, 1, 1, 0, 0, 0, 0, 0, 0, 0, 0, 1, 0, 0, 0, 0,\n",
       "       1, 0, 0, 0, 1, 1, 0, 0, 1, 1, 1, 1, 0, 0, 0, 1, 1, 1, 0, 0, 0, 1,\n",
       "       0, 1, 1, 0, 0, 1, 1, 1, 0, 1, 0, 0, 1, 0, 0, 1, 1, 1, 1, 0, 1, 0,\n",
       "       1, 0, 1, 1, 0, 0, 1, 0, 1, 1, 0, 0, 0, 1, 0, 0, 1, 1, 1, 0, 0, 0,\n",
       "       0, 0, 1, 0, 1, 0, 0, 0, 1, 0, 1, 1, 0, 1, 0, 0, 0, 0, 0, 1, 0, 0,\n",
       "       0, 1, 0, 0, 0, 0, 0, 1, 1, 0, 0, 1, 1, 1, 1, 1, 0, 1, 0, 1, 0, 1,\n",
       "       0, 0, 0, 0, 0, 1, 0, 0, 0, 0, 0, 1, 0, 0, 0, 0, 1, 0, 0, 1, 0, 1,\n",
       "       0, 1, 1, 1, 1, 1, 1, 0, 1, 1, 0, 0, 1, 1, 1, 1, 1, 1, 0, 0, 0, 0,\n",
       "       0, 0, 1, 0, 1, 1, 0, 1, 0, 1, 0, 0, 0, 0, 1, 1, 1, 1, 1, 1, 1, 0,\n",
       "       0, 0, 0, 0, 1, 0, 1, 1, 1, 0, 0, 1, 1, 1, 0, 0, 0, 1, 0, 1, 0, 1,\n",
       "       1, 0, 1, 1, 1, 1, 1, 1, 1, 0, 0, 1, 1, 0, 0, 1, 1, 1, 1, 0, 0, 0,\n",
       "       1, 0, 0, 1, 0, 0, 1, 0, 0, 1, 1, 0, 1, 1, 1, 0, 0, 1, 0, 1, 0, 0,\n",
       "       0, 1, 1, 1, 1, 0, 1, 0, 1, 1, 1, 0, 1, 1, 1, 1, 1, 0, 0, 1, 1, 0,\n",
       "       0, 0, 1, 1, 0, 1, 0, 1, 1, 1, 0, 0, 1, 0, 1, 1, 1, 0, 0, 0, 1, 0,\n",
       "       1, 0, 1, 1, 0, 0, 0, 1, 0, 1, 0, 1, 1, 1, 0, 0, 0, 1, 1, 1, 0, 0,\n",
       "       1, 1, 1, 0, 1, 1, 1, 1, 1, 1, 0, 1, 0, 1, 0, 1, 1, 1, 0, 1, 0, 1,\n",
       "       1, 0, 1, 1, 0, 1, 0, 1, 1, 0, 0, 0, 0, 0, 1, 1, 1, 0, 0, 0, 1, 1,\n",
       "       1, 0, 0, 0, 1, 1, 0, 1, 1, 1, 1, 1, 1, 0, 1, 1, 1, 1, 0, 1, 0, 0,\n",
       "       0, 1, 1, 1, 0, 0, 0, 0, 1, 1, 1, 1, 1, 0, 1, 0, 1, 1, 0, 0, 1, 0,\n",
       "       1, 0, 1, 1, 1, 0, 0, 1, 0, 0, 0, 1, 1, 0, 1, 0, 1, 1, 1, 0, 0, 0,\n",
       "       1, 0, 0, 0, 0, 1, 1, 1, 0, 0, 1, 0, 0, 1, 0, 1, 1, 0, 1, 1, 0, 1,\n",
       "       0, 0, 1, 0, 1, 0, 0, 0, 0, 1, 0, 1, 0, 0, 1, 0, 1, 0, 1, 1, 1, 1,\n",
       "       1, 0, 1, 1, 1, 0, 1, 0, 1, 1, 1, 1, 1, 0, 0, 0, 0, 1, 1, 0, 1, 0,\n",
       "       0, 1, 1, 0, 1, 1, 1, 0, 0, 0, 0, 0, 1, 1, 0, 0, 0, 1, 1, 0, 1, 1,\n",
       "       1, 1, 0, 1, 1, 0, 1, 1, 0, 0, 0, 0, 1, 0, 1, 0, 0, 1, 1, 0, 1, 1,\n",
       "       0, 0], dtype=int64)"
      ]
     },
     "execution_count": 18,
     "metadata": {},
     "output_type": "execute_result"
    }
   ],
   "source": [
    "y_prob = trainer4.predict(tokenized_sentiment[\"test\"]) #test_text\n",
    "#y_prob[0]\n",
    "y_pred = np.argmax(y_prob.predictions, axis=-1)\n",
    "y_pred"
   ]
  },
  {
   "cell_type": "code",
   "execution_count": 19,
   "id": "2c8b0d15",
   "metadata": {},
   "outputs": [
    {
     "data": {
      "text/html": [
       "<div>\n",
       "<style scoped>\n",
       "    .dataframe tbody tr th:only-of-type {\n",
       "        vertical-align: middle;\n",
       "    }\n",
       "\n",
       "    .dataframe tbody tr th {\n",
       "        vertical-align: top;\n",
       "    }\n",
       "\n",
       "    .dataframe thead th {\n",
       "        text-align: right;\n",
       "    }\n",
       "</style>\n",
       "<table border=\"1\" class=\"dataframe\">\n",
       "  <thead>\n",
       "    <tr style=\"text-align: right;\">\n",
       "      <th></th>\n",
       "      <th>Model Type</th>\n",
       "      <th>Model Name</th>\n",
       "      <th>seuil</th>\n",
       "      <th>F1-Score</th>\n",
       "      <th>FBeta-Score</th>\n",
       "      <th>Recall_score</th>\n",
       "      <th>Precision_score</th>\n",
       "      <th>Accuracy_score</th>\n",
       "      <th>Roc_AUC_score</th>\n",
       "    </tr>\n",
       "  </thead>\n",
       "  <tbody>\n",
       "    <tr>\n",
       "      <th>0</th>\n",
       "      <td>CamembertForSequenceClassification(\\n  (robert...</td>\n",
       "      <td>4. CAMEMBERT - bert-base-uncased</td>\n",
       "      <td>0.5</td>\n",
       "      <td>0.702128</td>\n",
       "      <td>0.698307</td>\n",
       "      <td>0.708589</td>\n",
       "      <td>0.695783</td>\n",
       "      <td>0.69375</td>\n",
       "      <td>0.693466</td>\n",
       "    </tr>\n",
       "  </tbody>\n",
       "</table>\n",
       "</div>"
      ],
      "text/plain": [
       "                                          Model Type  \\\n",
       "0  CamembertForSequenceClassification(\\n  (robert...   \n",
       "\n",
       "                         Model Name seuil  F1-Score FBeta-Score Recall_score  \\\n",
       "0  4. CAMEMBERT - bert-base-uncased   0.5  0.702128    0.698307     0.708589   \n",
       "\n",
       "  Precision_score Accuracy_score Roc_AUC_score  \n",
       "0        0.695783        0.69375      0.693466  "
      ]
     },
     "execution_count": 19,
     "metadata": {},
     "output_type": "execute_result"
    }
   ],
   "source": [
    "model_name=\"4. CAMEMBERT - bert-base-uncased\"\n",
    "model_folder_path = './bert_models'\n",
    "model_file_path = os.path.join(model_folder_path, model_name)\n",
    "seuil=0.5\n",
    "binary_transform = True\n",
    "\n",
    "false_positive_rate, true_positive_rate, thresholds = roc_curve(y_prob[1], y_pred)\n",
    "Roc_AUC_score = auc(false_positive_rate, true_positive_rate)\n",
    "F1_score = f1_score(y_prob[1], y_pred)\n",
    "FBeta_score = fbeta_score(y_prob[1], y_pred, average='binary', beta=0.5, pos_label=1) #make_scorer(fbeta_score, beta = 2, pos_label=0 ,average = 'binary')\n",
    "Recall_score = recall_score(y_prob[1], y_pred)\n",
    "Precision_score = precision_score(y_prob[1], y_pred)\n",
    "Accuracy_score = accuracy_score(y_prob[1], y_pred)\n",
    "\n",
    "score_results = pd.Series([model_bert4, model_name, seuil, F1_score, FBeta_score, Recall_score, Precision_score, Accuracy_score, Roc_AUC_score])\n",
    "score_results_stored = pd.DataFrame([score_results.values],  columns = score_column_names)\n",
    "store_score = pd.concat([store_score, score_results_stored], axis=0, ignore_index=True)\n",
    "store_score"
   ]
  },
  {
   "cell_type": "code",
   "execution_count": 20,
   "id": "08c248e5",
   "metadata": {},
   "outputs": [
    {
     "data": {
      "image/png": "[encoded data removed]",
      "text/plain": [
       "<Figure size 360x360 with 1 Axes>"
      ]
     },
     "metadata": {},
     "output_type": "display_data"
    }
   ],
   "source": [
    "#Plot functions\n",
    "matrix_pred_model(model_bert4, model_name, y_prob[1], y_pred) \n",
    "#plot_roc_auc_curve(model_name, false_positive_rate, true_positive_rate)"
   ]
  },
  {
   "cell_type": "markdown",
   "id": "7cca8521",
   "metadata": {},
   "source": [
    "Le modèle le plus performant après fine tuning est le modèle BERT (Model 1).\n",
    "Nous allons ré-exécuter son entraînement en 2 étapes:\n",
    " 1. En mesurant Loss et Accuracy au cours de l'entrainement.\n",
    " 2. Sur une base de données plus importante, et évaluer son gain de performance.\n"
   ]
  },
  {
   "cell_type": "markdown",
   "id": "d6bf245c",
   "metadata": {},
   "source": [
    "#### Training hyperparameters (Phase décrite dans Tutorial, avec la mesure des Métriques au cours de l'entrainement)\n",
    "\n",
    "Nous crééons les Arguments du modèle d'entrainement, qui contiennts les hyperparamètres à ajuster, ainsi que les drapeaux pour activer les options.\n",
    "\n",
    "Ici, nous commenceons avec les [default training hyperparameters](https://huggingface.co/docs/transformers/training#training-hyperparameters).\n",
    "\n",
    "Nous spécifions également le dossier de stockage **des checkpoints = ./bert_results/**\n",
    "\n",
    "[Voir Notebook Colab ici](https://colab.research.google.com/drive/1PHv-IRLPCtv7oTcIGbsgZHqrB5LPvB7S#scrollTo=H63Y-TjyRC7S)\n",
    "\n",
    "[Voir Training ici](https://huggingface.co/docs/transformers/training)"
   ]
  },
  {
   "cell_type": "code",
   "execution_count": 16,
   "id": "5625f68a",
   "metadata": {},
   "outputs": [],
   "source": [
    "# create a TrainingArguments class which contains all the hyperparameters you can tune as well as flags for activating different training options.\n",
    "# monitor your evaluation metrics during fine-tuning, specify the evaluation_strategy parameter in your training arguments \n",
    "#training_args = TrainingArguments(output_dir=\"./bert_results/\", evaluation_strategy=\"epoch\")\n",
    "\n",
    "training_args = TrainingArguments(\n",
    "    output_dir=\"./bert_results\",\n",
    "    learning_rate=2e-5,\n",
    "    per_device_train_batch_size=8,\n",
    "    per_device_eval_batch_size=8,\n",
    "    num_train_epochs=3,\n",
    "    weight_decay=0.01,\n",
    "    evaluation_strategy=\"epoch\",\n",
    "    eval_accumulation_steps=1,\n",
    "    \n",
    "    #--use_ipex,\n",
    "    #--bf16,\n",
    "    #--no_cuda\n",
    "    #warmup_steps=500,                # number of warmup steps for learning rate scheduler\n",
    "    #logging_steps=100,\n",
    ")"
   ]
  },
  {
   "cell_type": "code",
   "execution_count": 17,
   "id": "5e80491b",
   "metadata": {},
   "outputs": [],
   "source": [
    "# need to pass Trainer a function to compute and report metrics\n",
    "metric = load_metric(\"accuracy\")"
   ]
  },
  {
   "cell_type": "code",
   "execution_count": 18,
   "id": "fbbcac05",
   "metadata": {},
   "outputs": [],
   "source": [
    "# Call compute on metric to calculate the accuracy of your predictions\n",
    "def compute_metrics(eval_pred):\n",
    "    logits, labels = eval_pred\n",
    "    predictions = np.argmax(logits, axis=-1)\n",
    "    return metric.compute(predictions=predictions, references=labels)"
   ]
  },
  {
   "cell_type": "code",
   "execution_count": 13,
   "id": "7fb441ca",
   "metadata": {},
   "outputs": [
    {
     "name": "stderr",
     "output_type": "stream",
     "text": [
      "Some weights of the model checkpoint at bert-base-uncased were not used when initializing BertForSequenceClassification: ['cls.seq_relationship.bias', 'cls.predictions.bias', 'cls.seq_relationship.weight', 'cls.predictions.transform.LayerNorm.weight', 'cls.predictions.transform.dense.weight', 'cls.predictions.transform.LayerNorm.bias', 'cls.predictions.decoder.weight', 'cls.predictions.transform.dense.bias']\n",
      "- This IS expected if you are initializing BertForSequenceClassification from the checkpoint of a model trained on another task or with another architecture (e.g. initializing a BertForSequenceClassification model from a BertForPreTraining model).\n",
      "- This IS NOT expected if you are initializing BertForSequenceClassification from the checkpoint of a model that you expect to be exactly identical (initializing a BertForSequenceClassification model from a BertForSequenceClassification model).\n",
      "Some weights of BertForSequenceClassification were not initialized from the model checkpoint at bert-base-uncased and are newly initialized: ['classifier.bias', 'classifier.weight']\n",
      "You should probably TRAIN this model on a down-stream task to be able to use it for predictions and inference.\n"
     ]
    }
   ],
   "source": [
    "# Load BERT with AutoModelForSequenceClassification along with the number of expected labels:\n",
    "model_bert1 = AutoModelForSequenceClassification.from_pretrained(\"bert-base-uncased\", num_labels=2)"
   ]
  },
  {
   "cell_type": "code",
   "execution_count": 19,
   "id": "fcb313fc",
   "metadata": {},
   "outputs": [],
   "source": [
    "\n",
    "# Pass the training arguments to Trainer along with the model, dataset, tokenizer, and data collator.\n",
    "trainer = Trainer(\n",
    "    model=model_bert1,\n",
    "    args=training_args,\n",
    "    train_dataset=tokenized_sentiment[\"train\"],\n",
    "    eval_dataset=tokenized_sentiment[\"test\"],\n",
    "    tokenizer=tokenizer,\n",
    "    data_collator=data_collator,\n",
    "    compute_metrics=compute_metrics,\n",
    ")"
   ]
  },
  {
   "cell_type": "code",
   "execution_count": 41,
   "id": "778c0301",
   "metadata": {},
   "outputs": [
    {
     "data": {
      "text/html": [
       "\n",
       "    <div>\n",
       "      \n",
       "      <progress value='3200' max='3200' style='width:300px; height:20px; vertical-align: middle;'></progress>\n",
       "      [3200/3200 14:29, Epoch 10/10]\n",
       "    </div>\n",
       "    <table border=\"1\" class=\"dataframe\">\n",
       "  <thead>\n",
       "    <tr style=\"text-align: left;\">\n",
       "      <th>Epoch</th>\n",
       "      <th>Training Loss</th>\n",
       "      <th>Validation Loss</th>\n",
       "      <th>Accuracy</th>\n",
       "    </tr>\n",
       "  </thead>\n",
       "  <tbody>\n",
       "    <tr>\n",
       "      <td>1</td>\n",
       "      <td>No log</td>\n",
       "      <td>1.380415</td>\n",
       "      <td>0.770312</td>\n",
       "    </tr>\n",
       "    <tr>\n",
       "      <td>2</td>\n",
       "      <td>0.086900</td>\n",
       "      <td>1.392268</td>\n",
       "      <td>0.775000</td>\n",
       "    </tr>\n",
       "    <tr>\n",
       "      <td>3</td>\n",
       "      <td>0.086900</td>\n",
       "      <td>1.468110</td>\n",
       "      <td>0.801562</td>\n",
       "    </tr>\n",
       "    <tr>\n",
       "      <td>4</td>\n",
       "      <td>0.053900</td>\n",
       "      <td>1.621447</td>\n",
       "      <td>0.789062</td>\n",
       "    </tr>\n",
       "    <tr>\n",
       "      <td>5</td>\n",
       "      <td>0.019400</td>\n",
       "      <td>1.545250</td>\n",
       "      <td>0.798438</td>\n",
       "    </tr>\n",
       "    <tr>\n",
       "      <td>6</td>\n",
       "      <td>0.019400</td>\n",
       "      <td>1.584323</td>\n",
       "      <td>0.793750</td>\n",
       "    </tr>\n",
       "    <tr>\n",
       "      <td>7</td>\n",
       "      <td>0.036600</td>\n",
       "      <td>1.771250</td>\n",
       "      <td>0.787500</td>\n",
       "    </tr>\n",
       "    <tr>\n",
       "      <td>8</td>\n",
       "      <td>0.002900</td>\n",
       "      <td>1.852216</td>\n",
       "      <td>0.789062</td>\n",
       "    </tr>\n",
       "    <tr>\n",
       "      <td>9</td>\n",
       "      <td>0.002900</td>\n",
       "      <td>1.890177</td>\n",
       "      <td>0.789062</td>\n",
       "    </tr>\n",
       "    <tr>\n",
       "      <td>10</td>\n",
       "      <td>0.005000</td>\n",
       "      <td>1.901506</td>\n",
       "      <td>0.789062</td>\n",
       "    </tr>\n",
       "  </tbody>\n",
       "</table><p>"
      ],
      "text/plain": [
       "<IPython.core.display.HTML object>"
      ]
     },
     "metadata": {},
     "output_type": "display_data"
    },
    {
     "data": {
      "text/plain": [
       "TrainOutput(global_step=3200, training_loss=0.032194600198417904, metrics={'train_runtime': 869.9545, 'train_samples_per_second': 3.678, 'total_flos': 60897504934272.0, 'epoch': 10.0})"
      ]
     },
     "execution_count": 41,
     "metadata": {},
     "output_type": "execute_result"
    }
   ],
   "source": [
    "trainer.train()"
   ]
  },
  {
   "cell_type": "code",
   "execution_count": 42,
   "id": "e88dc405",
   "metadata": {},
   "outputs": [
    {
     "data": {
      "text/html": [
       "\n",
       "    <div>\n",
       "      \n",
       "      <progress value='82' max='80' style='width:300px; height:20px; vertical-align: middle;'></progress>\n",
       "      [80/80 14:48]\n",
       "    </div>\n",
       "    "
      ],
      "text/plain": [
       "<IPython.core.display.HTML object>"
      ]
     },
     "metadata": {},
     "output_type": "display_data"
    }
   ],
   "source": [
    "y_prob = trainer.predict(tokenized_sentiment[\"test\"]) #test_text\n",
    "#y_prob[0]\n",
    "y_pred = np.argmax(y_prob.predictions, axis=-1)\n",
    "#y_pred"
   ]
  },
  {
   "cell_type": "code",
   "execution_count": 44,
   "id": "2750681b",
   "metadata": {},
   "outputs": [
    {
     "data": {
      "text/html": [
       "<div>\n",
       "<style scoped>\n",
       "    .dataframe tbody tr th:only-of-type {\n",
       "        vertical-align: middle;\n",
       "    }\n",
       "\n",
       "    .dataframe tbody tr th {\n",
       "        vertical-align: top;\n",
       "    }\n",
       "\n",
       "    .dataframe thead th {\n",
       "        text-align: right;\n",
       "    }\n",
       "</style>\n",
       "<table border=\"1\" class=\"dataframe\">\n",
       "  <thead>\n",
       "    <tr style=\"text-align: right;\">\n",
       "      <th></th>\n",
       "      <th>Model Type</th>\n",
       "      <th>Model Name</th>\n",
       "      <th>seuil</th>\n",
       "      <th>F1-Score</th>\n",
       "      <th>FBeta-Score</th>\n",
       "      <th>Recall_score</th>\n",
       "      <th>Precision_score</th>\n",
       "      <th>Accuracy_score</th>\n",
       "      <th>Roc_AUC_score</th>\n",
       "    </tr>\n",
       "  </thead>\n",
       "  <tbody>\n",
       "    <tr>\n",
       "      <th>0</th>\n",
       "      <td>BertForSequenceClassification(\\n  (bert): Bert...</td>\n",
       "      <td>1. BERT AutoModel - bert-base-uncased</td>\n",
       "      <td>0.5</td>\n",
       "      <td>0.789074</td>\n",
       "      <td>0.778443</td>\n",
       "      <td>0.807453</td>\n",
       "      <td>0.771513</td>\n",
       "      <td>0.782813</td>\n",
       "      <td>0.782658</td>\n",
       "    </tr>\n",
       "    <tr>\n",
       "      <th>1</th>\n",
       "      <td>BertForSequenceClassification(\\n  (bert): Bert...</td>\n",
       "      <td>1. BERT measure metrics - bert-base-uncased</td>\n",
       "      <td>0.5</td>\n",
       "      <td>0.791988</td>\n",
       "      <td>0.788344</td>\n",
       "      <td>0.798137</td>\n",
       "      <td>0.785933</td>\n",
       "      <td>0.789062</td>\n",
       "      <td>0.789005</td>\n",
       "    </tr>\n",
       "  </tbody>\n",
       "</table>\n",
       "</div>"
      ],
      "text/plain": [
       "                                          Model Type  \\\n",
       "0  BertForSequenceClassification(\\n  (bert): Bert...   \n",
       "1  BertForSequenceClassification(\\n  (bert): Bert...   \n",
       "\n",
       "                                    Model Name seuil  F1-Score FBeta-Score  \\\n",
       "0        1. BERT AutoModel - bert-base-uncased   0.5  0.789074    0.778443   \n",
       "1  1. BERT measure metrics - bert-base-uncased   0.5  0.791988    0.788344   \n",
       "\n",
       "  Recall_score Precision_score Accuracy_score Roc_AUC_score  \n",
       "0     0.807453        0.771513       0.782813      0.782658  \n",
       "1     0.798137        0.785933       0.789062      0.789005  "
      ]
     },
     "execution_count": 44,
     "metadata": {},
     "output_type": "execute_result"
    }
   ],
   "source": [
    "model_name=\"1. BERT measure metrics - bert-base-uncased\"\n",
    "model_folder_path = './bert_models'\n",
    "model_file_path = os.path.join(model_folder_path, model_name)\n",
    "seuil=0.5\n",
    "binary_transform = True\n",
    "\n",
    "false_positive_rate, true_positive_rate, thresholds = roc_curve(y_prob[1], y_pred)\n",
    "Roc_AUC_score = auc(false_positive_rate, true_positive_rate)\n",
    "F1_score = f1_score(y_prob[1], y_pred)\n",
    "FBeta_score = fbeta_score(y_prob[1], y_pred, average='binary', beta=0.5, pos_label=1) #make_scorer(fbeta_score, beta = 2, pos_label=0 ,average = 'binary')\n",
    "Recall_score = recall_score(y_prob[1], y_pred)\n",
    "Precision_score = precision_score(y_prob[1], y_pred)\n",
    "Accuracy_score = accuracy_score(y_prob[1], y_pred)\n",
    "\n",
    "score_results = pd.Series([model_bert1, model_name, seuil, F1_score, FBeta_score, Recall_score, Precision_score, Accuracy_score, Roc_AUC_score])\n",
    "score_results_stored = pd.DataFrame([score_results.values],  columns = score_column_names)\n",
    "store_score = pd.concat([store_score, score_results_stored], axis=0, ignore_index=True)\n",
    "store_score"
   ]
  },
  {
   "cell_type": "code",
   "execution_count": 45,
   "id": "005695d8",
   "metadata": {},
   "outputs": [
    {
     "name": "stdout",
     "output_type": "stream",
     "text": [
      "              precision    recall  f1-score   support\n",
      "\n",
      "           0       0.79      0.78      0.79       318\n",
      "           1       0.79      0.80      0.79       322\n",
      "\n",
      "    accuracy                           0.79       640\n",
      "   macro avg       0.79      0.79      0.79       640\n",
      "weighted avg       0.79      0.79      0.79       640\n",
      "\n"
     ]
    }
   ],
   "source": [
    "print(classification_report(y_prob[1], y_pred))"
   ]
  },
  {
   "cell_type": "code",
   "execution_count": 47,
   "id": "f0fd2a54",
   "metadata": {},
   "outputs": [
    {
     "data": {
      "image/png": "[encoded data removed]",
      "text/plain": [
       "<Figure size 360x360 with 1 Axes>"
      ]
     },
     "metadata": {},
     "output_type": "display_data"
    }
   ],
   "source": [
    "#Plot functions\n",
    "matrix_pred_model(model_bert1, model_name, y_prob[1], y_pred) \n",
    "#plot_roc_auc_curve(model_name, false_positive_rate, true_positive_rate)"
   ]
  },
  {
   "cell_type": "markdown",
   "id": "2196bf08",
   "metadata": {},
   "source": [
    "### Train the Models on large datasets\n",
    "#### Train the model 1 : AutoModel ForSequenceClassification - \"bert-base-uncased\""
   ]
  },
  {
   "cell_type": "code",
   "execution_count": null,
   "id": "4e90727e",
   "metadata": {},
   "outputs": [],
   "source": [
    "# Load BERT with AutoModelForSequenceClassification along with the number of expected labels:\n",
    "model_bert1 = AutoModelForSequenceClassification.from_pretrained(\"bert-base-uncased\", num_labels=2)"
   ]
  },
  {
   "cell_type": "code",
   "execution_count": 9,
   "id": "f9eee8d0",
   "metadata": {},
   "outputs": [],
   "source": [
    "### AUGMENTATION DU JEU DE DONNEE POUR LES PHASES DE TESTS\n",
    "#clean_df = clean_data(df.groupby('target').apply(lambda x: x.sample(frac=0.08))) #clean_data(df)\n",
    "clean_df = df.sample(frac=0.05, random_state=0)\n",
    "clean_df = clean_df.drop(['date', 'flag', 'user'], axis=1)\n",
    "clean_df.set_index('id',inplace = True)\n",
    "\n",
    "#clean_df.index.name = 'ids'\n",
    "\n",
    "#Replace Target value related to positive statement = 1 (Binary reason)\n",
    "clean_df.loc[clean_df['target'] == 4, 'target'] = 1\n",
    "\n",
    "#Technique 2 : Text preprocess using https://pypi.org/project/tweet-preprocessor/\n",
    "clean_df.text = clean_df.text.apply(lambda x: p.clean(x))\n"
   ]
  },
  {
   "cell_type": "code",
   "execution_count": 10,
   "id": "3205be1f",
   "metadata": {},
   "outputs": [],
   "source": [
    "dataset2 = Dataset.from_pandas(clean_df)\n",
    "# Rename column\n",
    "dataset2 = dataset2.rename_column(\"target\", \"labels\")\n",
    "\n",
    "# Remove column\n",
    "dataset2 = dataset2.remove_columns(\"id\")\n",
    "dataset2 = dataset2.train_test_split(test_size=0.2)"
   ]
  },
  {
   "cell_type": "code",
   "execution_count": 11,
   "id": "938bd8fe",
   "metadata": {},
   "outputs": [
    {
     "name": "stderr",
     "output_type": "stream",
     "text": [
      "Parameter 'function'=<function preprocess_function at 0x000001F9D7AEEEE0> of the transform datasets.arrow_dataset.Dataset._map_single couldn't be hashed properly, a random hash was used instead. Make sure your transforms and parameters are serializable with pickle or dill for the dataset fingerprinting and caching to work. If you reuse this transform, the caching mechanism will consider it to be different from the previous calls and recompute everything. This warning is only showed once. Subsequent hashing failures won't be showed.\n",
      "100%|██████████| 64/64 [00:03<00:00, 17.53ba/s]\n",
      "100%|██████████| 16/16 [00:00<00:00, 17.50ba/s]\n"
     ]
    },
    {
     "data": {
      "text/plain": [
       "DatasetDict({\n",
       "    train: Dataset({\n",
       "        features: ['labels', 'text', 'input_ids', 'token_type_ids', 'attention_mask'],\n",
       "        num_rows: 64000\n",
       "    })\n",
       "    test: Dataset({\n",
       "        features: ['labels', 'text', 'input_ids', 'token_type_ids', 'attention_mask'],\n",
       "        num_rows: 16000\n",
       "    })\n",
       "})"
      ]
     },
     "execution_count": 11,
     "metadata": {},
     "output_type": "execute_result"
    }
   ],
   "source": [
    "tokenized_sentiment = dataset2.map(preprocess_function, batched=True)\n",
    "tokenized_sentiment"
   ]
  },
  {
   "cell_type": "code",
   "execution_count": 20,
   "id": "cfc60ec1",
   "metadata": {},
   "outputs": [],
   "source": [
    "# Pass the training arguments to Trainer along with the model, dataset, tokenizer, and data collator.\n",
    "trainer5 = Trainer(\n",
    "    model=model_bert1,\n",
    "    args=training_args,\n",
    "    train_dataset=tokenized_sentiment[\"train\"],\n",
    "    eval_dataset=tokenized_sentiment[\"test\"],\n",
    "    tokenizer=tokenizer,\n",
    "    data_collator=data_collator,\n",
    "    compute_metrics=compute_metrics,\n",
    ")"
   ]
  },
  {
   "cell_type": "code",
   "execution_count": 21,
   "id": "1e669797",
   "metadata": {},
   "outputs": [
    {
     "data": {
      "text/html": [
       "\n",
       "    <div>\n",
       "      \n",
       "      <progress value='24000' max='24000' style='width:300px; height:20px; vertical-align: middle;'></progress>\n",
       "      [24000/24000 2:13:10, Epoch 3/3]\n",
       "    </div>\n",
       "    <table border=\"1\" class=\"dataframe\">\n",
       "  <thead>\n",
       "    <tr style=\"text-align: left;\">\n",
       "      <th>Epoch</th>\n",
       "      <th>Training Loss</th>\n",
       "      <th>Validation Loss</th>\n",
       "      <th>Accuracy</th>\n",
       "    </tr>\n",
       "  </thead>\n",
       "  <tbody>\n",
       "    <tr>\n",
       "      <td>1</td>\n",
       "      <td>0.393300</td>\n",
       "      <td>0.395987</td>\n",
       "      <td>0.839938</td>\n",
       "    </tr>\n",
       "    <tr>\n",
       "      <td>2</td>\n",
       "      <td>0.312800</td>\n",
       "      <td>0.488385</td>\n",
       "      <td>0.839375</td>\n",
       "    </tr>\n",
       "    <tr>\n",
       "      <td>3</td>\n",
       "      <td>0.188600</td>\n",
       "      <td>0.695894</td>\n",
       "      <td>0.840250</td>\n",
       "    </tr>\n",
       "  </tbody>\n",
       "</table><p>"
      ],
      "text/plain": [
       "<IPython.core.display.HTML object>"
      ]
     },
     "metadata": {},
     "output_type": "display_data"
    },
    {
     "data": {
      "text/plain": [
       "TrainOutput(global_step=24000, training_loss=0.31803808943430584, metrics={'train_runtime': 7993.2865, 'train_samples_per_second': 3.003, 'total_flos': 0, 'epoch': 3.0})"
      ]
     },
     "execution_count": 21,
     "metadata": {},
     "output_type": "execute_result"
    }
   ],
   "source": [
    "trainer5.train()"
   ]
  },
  {
   "cell_type": "code",
   "execution_count": 22,
   "id": "8b1b0cfc",
   "metadata": {},
   "outputs": [
    {
     "data": {
      "text/html": [
       "\n",
       "    <div>\n",
       "      \n",
       "      <progress value='2000' max='2000' style='width:300px; height:20px; vertical-align: middle;'></progress>\n",
       "      [2000/2000 02:20]\n",
       "    </div>\n",
       "    "
      ],
      "text/plain": [
       "<IPython.core.display.HTML object>"
      ]
     },
     "metadata": {},
     "output_type": "display_data"
    }
   ],
   "source": [
    "y_prob = trainer5.predict(tokenized_sentiment[\"test\"]) #test_text\n",
    "#y_prob[0]\n",
    "y_pred = np.argmax(y_prob.predictions, axis=-1)\n",
    "#y_pred"
   ]
  },
  {
   "cell_type": "code",
   "execution_count": 23,
   "id": "bc5aef6d",
   "metadata": {},
   "outputs": [
    {
     "data": {
      "text/html": [
       "<div>\n",
       "<style scoped>\n",
       "    .dataframe tbody tr th:only-of-type {\n",
       "        vertical-align: middle;\n",
       "    }\n",
       "\n",
       "    .dataframe tbody tr th {\n",
       "        vertical-align: top;\n",
       "    }\n",
       "\n",
       "    .dataframe thead th {\n",
       "        text-align: right;\n",
       "    }\n",
       "</style>\n",
       "<table border=\"1\" class=\"dataframe\">\n",
       "  <thead>\n",
       "    <tr style=\"text-align: right;\">\n",
       "      <th></th>\n",
       "      <th>Model Type</th>\n",
       "      <th>Model Name</th>\n",
       "      <th>seuil</th>\n",
       "      <th>F1-Score</th>\n",
       "      <th>FBeta-Score</th>\n",
       "      <th>Recall_score</th>\n",
       "      <th>Precision_score</th>\n",
       "      <th>Accuracy_score</th>\n",
       "      <th>Roc_AUC_score</th>\n",
       "    </tr>\n",
       "  </thead>\n",
       "  <tbody>\n",
       "    <tr>\n",
       "      <th>0</th>\n",
       "      <td>BertForSequenceClassification(\\n  (bert): Bert...</td>\n",
       "      <td>1. BERT large datasets - bert-base-uncased</td>\n",
       "      <td>0.5</td>\n",
       "      <td>0.841341</td>\n",
       "      <td>0.837659</td>\n",
       "      <td>0.847549</td>\n",
       "      <td>0.835223</td>\n",
       "      <td>0.84025</td>\n",
       "      <td>0.840254</td>\n",
       "    </tr>\n",
       "  </tbody>\n",
       "</table>\n",
       "</div>"
      ],
      "text/plain": [
       "                                          Model Type  \\\n",
       "0  BertForSequenceClassification(\\n  (bert): Bert...   \n",
       "\n",
       "                                   Model Name seuil  F1-Score FBeta-Score  \\\n",
       "0  1. BERT large datasets - bert-base-uncased   0.5  0.841341    0.837659   \n",
       "\n",
       "  Recall_score Precision_score Accuracy_score Roc_AUC_score  \n",
       "0     0.847549        0.835223        0.84025      0.840254  "
      ]
     },
     "execution_count": 23,
     "metadata": {},
     "output_type": "execute_result"
    }
   ],
   "source": [
    "model_name=\"1. BERT large datasets - bert-base-uncased\"\n",
    "model_folder_path = './bert_models'\n",
    "model_file_path = os.path.join(model_folder_path, model_name)\n",
    "seuil=0.5\n",
    "binary_transform = True\n",
    "\n",
    "false_positive_rate, true_positive_rate, thresholds = roc_curve(y_prob[1], y_pred)\n",
    "Roc_AUC_score = auc(false_positive_rate, true_positive_rate)\n",
    "F1_score = f1_score(y_prob[1], y_pred)\n",
    "FBeta_score = fbeta_score(y_prob[1], y_pred, average='binary', beta=0.5, pos_label=1) #make_scorer(fbeta_score, beta = 2, pos_label=0 ,average = 'binary')\n",
    "Recall_score = recall_score(y_prob[1], y_pred)\n",
    "Precision_score = precision_score(y_prob[1], y_pred)\n",
    "Accuracy_score = accuracy_score(y_prob[1], y_pred)\n",
    "\n",
    "score_results = pd.Series([model_bert1, model_name, seuil, F1_score, FBeta_score, Recall_score, Precision_score, Accuracy_score, Roc_AUC_score])\n",
    "score_results_stored = pd.DataFrame([score_results.values],  columns = score_column_names)\n",
    "store_score = pd.concat([store_score, score_results_stored], axis=0, ignore_index=True)\n",
    "store_score"
   ]
  },
  {
   "cell_type": "code",
   "execution_count": 24,
   "id": "1e71f292",
   "metadata": {},
   "outputs": [
    {
     "data": {
      "image/png": "[encoded data removed]",
      "text/plain": [
       "<Figure size 360x360 with 1 Axes>"
      ]
     },
     "metadata": {},
     "output_type": "display_data"
    }
   ],
   "source": [
    "#Plot functions\n",
    "matrix_pred_model(model_bert1, model_name, y_prob[1], y_pred) \n",
    "#plot_roc_auc_curve(model_name, false_positive_rate, true_positive_rate)"
   ]
  },
  {
   "cell_type": "code",
   "execution_count": 30,
   "id": "6c1a9d42",
   "metadata": {},
   "outputs": [
    {
     "data": {
      "text/plain": [
       "['./Models/model_bert1.joblib']"
      ]
     },
     "execution_count": 30,
     "metadata": {},
     "output_type": "execute_result"
    }
   ],
   "source": [
    "dump(model_bert1, './Models/model_bert1.joblib')"
   ]
  },
  {
   "cell_type": "code",
   "execution_count": 28,
   "id": "15b19d43",
   "metadata": {},
   "outputs": [
    {
     "data": {
      "text/plain": [
       "['./Models/bert_tokenizer.joblib']"
      ]
     },
     "execution_count": 28,
     "metadata": {},
     "output_type": "execute_result"
    }
   ],
   "source": [
    "#save tokenizer in joblib files\n",
    "dump(tokenizer, './Models/bert_tokenizer.joblib')"
   ]
  },
  {
   "cell_type": "markdown",
   "id": "05c3ad39",
   "metadata": {},
   "source": [
    "## Test du modèle sur une entrée manuelle"
   ]
  },
  {
   "cell_type": "code",
   "execution_count": 32,
   "id": "08d4ebdc",
   "metadata": {},
   "outputs": [
    {
     "name": "stderr",
     "output_type": "stream",
     "text": [
      "100%|██████████| 1/1 [00:00<00:00, 133.96ba/s]"
     ]
    },
    {
     "name": "stdout",
     "output_type": "stream",
     "text": [
      "{'input_ids': [[101, 2057, 2024, 2200, 3407, 2000, 3231, 1996, 2307, 19081, 3075, 1012, 102], [101, 2057, 2024, 2200, 10206, 2000, 2156, 2129, 3375, 2009, 2003, 1012, 102]], 'token_type_ids': [[0, 0, 0, 0, 0, 0, 0, 0, 0, 0, 0, 0, 0], [0, 0, 0, 0, 0, 0, 0, 0, 0, 0, 0, 0, 0]], 'attention_mask': [[1, 1, 1, 1, 1, 1, 1, 1, 1, 1, 1, 1, 1], [1, 1, 1, 1, 1, 1, 1, 1, 1, 1, 1, 1, 1]]}\n"
     ]
    },
    {
     "name": "stderr",
     "output_type": "stream",
     "text": [
      "\n"
     ]
    }
   ],
   "source": [
    "test_text = [\"We are very happy to test the great transformers library.\", \"We are very frustrated to see how complex it is.\"]\n",
    "\n",
    "test_text_series = pd.Series(test_text)\n",
    "test_text_df = pd.DataFrame(test_text_series,  columns = ['text'])\n",
    "test_text_dict = datasets.Dataset.from_pandas(test_text_df)\n",
    "tokenized_test_text_dict = test_text_dict.map(preprocess_function, batched=True)\n",
    "\n",
    "test_text_encoding = tokenizer(test_text)\n",
    "print(test_text_encoding)\n",
    "\n"
   ]
  },
  {
   "cell_type": "code",
   "execution_count": 62,
   "id": "e6b81e7e",
   "metadata": {},
   "outputs": [
    {
     "data": {
      "text/plain": [
       "Dataset({\n",
       "    features: ['text', 'input_ids', 'token_type_ids', 'attention_mask'],\n",
       "    num_rows: 2\n",
       "})"
      ]
     },
     "execution_count": 62,
     "metadata": {},
     "output_type": "execute_result"
    }
   ],
   "source": [
    "tokenized_test_text_dict"
   ]
  },
  {
   "cell_type": "code",
   "execution_count": 63,
   "id": "7e85a0c4",
   "metadata": {},
   "outputs": [
    {
     "data": {
      "text/plain": [
       "array([1, 0], dtype=int64)"
      ]
     },
     "execution_count": 63,
     "metadata": {},
     "output_type": "execute_result"
    }
   ],
   "source": [
    "y_prob_test = trainer5.predict(tokenized_test_text_dict) #test_text\n",
    "#y_prob[0]\n",
    "y_pred = np.argmax(y_prob_test.predictions, axis=-1)\n",
    "y_pred"
   ]
  },
  {
   "cell_type": "code",
   "execution_count": 33,
   "id": "185d5f3a",
   "metadata": {},
   "outputs": [
    {
     "data": {
      "text/plain": [
       "['We are very happy to test the great transformers library.',\n",
       " 'We are very frustrated to see how complex it is.']"
      ]
     },
     "execution_count": 33,
     "metadata": {},
     "output_type": "execute_result"
    }
   ],
   "source": [
    "test_text"
   ]
  },
  {
   "cell_type": "code",
   "execution_count": 64,
   "id": "3eb3b278",
   "metadata": {},
   "outputs": [
    {
     "data": {
      "text/plain": [
       "[{'label': 'POSITIVE', 'score': 0.9997225999832153},\n",
       " {'label': 'NEGATIVE', 'score': 0.9996737241744995}]"
      ]
     },
     "execution_count": 64,
     "metadata": {},
     "output_type": "execute_result"
    }
   ],
   "source": [
    "pipe = pipeline(\"text-classification\")\n",
    "\n",
    "pipe(test_text)"
   ]
  },
  {
   "cell_type": "code",
   "execution_count": 74,
   "id": "a55bdec1",
   "metadata": {},
   "outputs": [
    {
     "data": {
      "text/plain": [
       "[{'label': 'POSITIVE', 'score': 0.9997225999832153},\n",
       " {'label': 'NEGATIVE', 'score': 0.9996737241744995}]"
      ]
     },
     "execution_count": 74,
     "metadata": {},
     "output_type": "execute_result"
    }
   ],
   "source": [
    "clean_test_text = test_text_series.apply(lambda x: p.clean(x))\n",
    "clean_test_text.tolist()\n",
    "pipe(clean_test_text.tolist())"
   ]
  },
  {
   "cell_type": "code",
   "execution_count": 75,
   "id": "19d695af",
   "metadata": {},
   "outputs": [
    {
     "data": {
      "text/plain": [
       "['We are very happy to test the great transformers library.',\n",
       " 'We are very frustrated to see how complex it is.']"
      ]
     },
     "execution_count": 75,
     "metadata": {},
     "output_type": "execute_result"
    }
   ],
   "source": [
    "clean_test_text.tolist()"
   ]
  },
  {
   "cell_type": "code",
   "execution_count": null,
   "id": "6ae4f307",
   "metadata": {},
   "outputs": [],
   "source": []
  },
  {
   "cell_type": "code",
   "execution_count": null,
   "id": "8138f625",
   "metadata": {},
   "outputs": [],
   "source": []
  },
  {
   "cell_type": "code",
   "execution_count": null,
   "id": "3626c9d5",
   "metadata": {},
   "outputs": [],
   "source": []
  },
  {
   "cell_type": "code",
   "execution_count": null,
   "id": "dbf8a1c8",
   "metadata": {},
   "outputs": [],
   "source": []
  },
  {
   "cell_type": "code",
   "execution_count": null,
   "id": "3990b6b2",
   "metadata": {},
   "outputs": [],
   "source": []
  },
  {
   "cell_type": "code",
   "execution_count": null,
   "id": "67f24894",
   "metadata": {},
   "outputs": [],
   "source": []
  },
  {
   "cell_type": "code",
   "execution_count": null,
   "id": "ad341350",
   "metadata": {},
   "outputs": [],
   "source": []
  },
  {
   "cell_type": "code",
   "execution_count": null,
   "id": "a1271aac",
   "metadata": {},
   "outputs": [],
   "source": []
  },
  {
   "cell_type": "code",
   "execution_count": null,
   "id": "971e4063",
   "metadata": {},
   "outputs": [],
   "source": []
  },
  {
   "cell_type": "code",
   "execution_count": null,
   "id": "8f3b490e",
   "metadata": {},
   "outputs": [],
   "source": []
  },
  {
   "cell_type": "code",
   "execution_count": null,
   "id": "53c37c6d",
   "metadata": {},
   "outputs": [],
   "source": []
  },
  {
   "cell_type": "code",
   "execution_count": null,
   "id": "771e6ac3",
   "metadata": {},
   "outputs": [],
   "source": []
  },
  {
   "cell_type": "code",
   "execution_count": null,
   "id": "131b00a7",
   "metadata": {},
   "outputs": [],
   "source": []
  },
  {
   "cell_type": "code",
   "execution_count": null,
   "id": "167cf369",
   "metadata": {},
   "outputs": [],
   "source": []
  },
  {
   "cell_type": "code",
   "execution_count": null,
   "id": "e7739018",
   "metadata": {},
   "outputs": [],
   "source": []
  },
  {
   "cell_type": "code",
   "execution_count": null,
   "id": "59783dd8",
   "metadata": {},
   "outputs": [],
   "source": []
  },
  {
   "cell_type": "code",
   "execution_count": null,
   "id": "6ddd7042",
   "metadata": {},
   "outputs": [],
   "source": []
  },
  {
   "cell_type": "code",
   "execution_count": null,
   "id": "115d34e2",
   "metadata": {},
   "outputs": [],
   "source": []
  },
  {
   "cell_type": "code",
   "execution_count": null,
   "id": "c43726ed",
   "metadata": {},
   "outputs": [],
   "source": []
  },
  {
   "cell_type": "code",
   "execution_count": null,
   "id": "75c7683a",
   "metadata": {},
   "outputs": [],
   "source": []
  },
  {
   "cell_type": "code",
   "execution_count": null,
   "id": "912893ba",
   "metadata": {},
   "outputs": [],
   "source": []
  },
  {
   "cell_type": "code",
   "execution_count": null,
   "id": "25ccf7b7",
   "metadata": {},
   "outputs": [],
   "source": []
  },
  {
   "cell_type": "code",
   "execution_count": null,
   "id": "1d98dd22",
   "metadata": {},
   "outputs": [],
   "source": []
  },
  {
   "cell_type": "code",
   "execution_count": null,
   "id": "bb01b352",
   "metadata": {},
   "outputs": [],
   "source": []
  },
  {
   "cell_type": "code",
   "execution_count": null,
   "id": "38bf9941",
   "metadata": {},
   "outputs": [],
   "source": []
  },
  {
   "cell_type": "code",
   "execution_count": null,
   "id": "fb9f8c42",
   "metadata": {},
   "outputs": [],
   "source": []
  },
  {
   "cell_type": "code",
   "execution_count": null,
   "id": "80d71cae",
   "metadata": {},
   "outputs": [],
   "source": []
  },
  {
   "cell_type": "code",
   "execution_count": null,
   "id": "59edca9b",
   "metadata": {},
   "outputs": [],
   "source": []
  },
  {
   "cell_type": "code",
   "execution_count": null,
   "id": "57eb1d99",
   "metadata": {},
   "outputs": [],
   "source": []
  },
  {
   "cell_type": "code",
   "execution_count": null,
   "id": "ef65981e",
   "metadata": {},
   "outputs": [],
   "source": []
  },
  {
   "cell_type": "code",
   "execution_count": null,
   "id": "09870d89",
   "metadata": {},
   "outputs": [],
   "source": []
  },
  {
   "cell_type": "code",
   "execution_count": null,
   "id": "7d5fd195",
   "metadata": {},
   "outputs": [],
   "source": []
  },
  {
   "cell_type": "code",
   "execution_count": null,
   "id": "1a27c445",
   "metadata": {},
   "outputs": [],
   "source": []
  },
  {
   "cell_type": "code",
   "execution_count": null,
   "id": "fedc7cf5",
   "metadata": {},
   "outputs": [],
   "source": []
  },
  {
   "cell_type": "code",
   "execution_count": null,
   "id": "5e804d6e",
   "metadata": {},
   "outputs": [],
   "source": []
  },
  {
   "cell_type": "code",
   "execution_count": null,
   "id": "24a742bf",
   "metadata": {},
   "outputs": [],
   "source": []
  },
  {
   "cell_type": "code",
   "execution_count": null,
   "id": "f9929953",
   "metadata": {},
   "outputs": [],
   "source": []
  },
  {
   "cell_type": "code",
   "execution_count": null,
   "id": "c7ed97fc",
   "metadata": {},
   "outputs": [],
   "source": []
  },
  {
   "cell_type": "code",
   "execution_count": null,
   "id": "88b7672b",
   "metadata": {},
   "outputs": [],
   "source": []
  },
  {
   "cell_type": "code",
   "execution_count": null,
   "id": "29ba1510",
   "metadata": {},
   "outputs": [],
   "source": []
  },
  {
   "cell_type": "code",
   "execution_count": null,
   "id": "2c0a179f",
   "metadata": {},
   "outputs": [],
   "source": []
  },
  {
   "cell_type": "code",
   "execution_count": null,
   "id": "fed8f74f",
   "metadata": {},
   "outputs": [],
   "source": []
  },
  {
   "cell_type": "code",
   "execution_count": null,
   "id": "617131d9",
   "metadata": {},
   "outputs": [],
   "source": []
  },
  {
   "cell_type": "code",
   "execution_count": null,
   "id": "6566f6a9",
   "metadata": {},
   "outputs": [],
   "source": []
  },
  {
   "cell_type": "code",
   "execution_count": null,
   "id": "9f5aa13e",
   "metadata": {},
   "outputs": [],
   "source": []
  },
  {
   "cell_type": "code",
   "execution_count": null,
   "id": "dd5f2a90",
   "metadata": {},
   "outputs": [],
   "source": []
  },
  {
   "cell_type": "code",
   "execution_count": null,
   "id": "a30d8876",
   "metadata": {},
   "outputs": [],
   "source": []
  },
  {
   "cell_type": "code",
   "execution_count": null,
   "id": "e67b55e3",
   "metadata": {},
   "outputs": [],
   "source": []
  },
  {
   "cell_type": "code",
   "execution_count": null,
   "id": "55f7d360",
   "metadata": {},
   "outputs": [],
   "source": []
  }
 ],
 "metadata": {
  "kernelspec": {
   "display_name": "Python 3 (ipykernel)",
   "language": "python",
   "name": "python3"
  },
  "language_info": {
   "codemirror_mode": {
    "name": "ipython",
    "version": 3
   },
   "file_extension": ".py",
   "mimetype": "text/x-python",
   "name": "python",
   "nbconvert_exporter": "python",
   "pygments_lexer": "ipython3",
   "version": "3.8.13"
  }
 },
 "nbformat": 4,
 "nbformat_minor": 5
}
